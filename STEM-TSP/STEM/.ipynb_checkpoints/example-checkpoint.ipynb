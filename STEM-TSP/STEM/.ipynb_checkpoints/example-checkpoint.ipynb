{
 "cells": [
  {
   "cell_type": "markdown",
   "id": "9cb76429",
   "metadata": {},
   "source": [
    "# To configure env and launch notebook for OSMNX use the following commands:¶\n",
    "conda config --prepend channels conda-forge\n",
    "\n",
    "conda create -n ox --strict-channel-priority osmnx jupyterlab\n",
    "\n",
    "conda activate ox\n",
    "\n",
    "python -m ipykernel install --user --name ox --display-name \"Python (ox)\"\n",
    "\n",
    "jupyter lab\n",
    "\n",
    "- Then select Environment Conda OX when creating a new notebook"
   ]
  },
  {
   "cell_type": "code",
   "execution_count": 1,
   "id": "49c4d7df",
   "metadata": {},
   "outputs": [],
   "source": [
    "#This code hides warnings - use it to make it easier to novice users, but comment it out when developeing/debugging as\n",
    "# warnings may be useful!!\n",
    "\n",
    "import warnings\n",
    "warnings.filterwarnings('ignore')"
   ]
  },
  {
   "cell_type": "code",
   "execution_count": 85,
   "id": "38d8bf5a",
   "metadata": {},
   "outputs": [],
   "source": [
    "import osmnx as ox\n",
    "import networkx as nx\n",
    "import pandas as pd\n",
    "import folium\n",
    "import sys\n",
    "import random"
   ]
  },
  {
   "cell_type": "code",
   "execution_count": 3,
   "id": "18a8249a",
   "metadata": {},
   "outputs": [
    {
     "data": {
      "text/html": [
       "<div>\n",
       "<style scoped>\n",
       "    .dataframe tbody tr th:only-of-type {\n",
       "        vertical-align: middle;\n",
       "    }\n",
       "\n",
       "    .dataframe tbody tr th {\n",
       "        vertical-align: top;\n",
       "    }\n",
       "\n",
       "    .dataframe thead th {\n",
       "        text-align: right;\n",
       "    }\n",
       "</style>\n",
       "<table border=\"1\" class=\"dataframe\">\n",
       "  <thead>\n",
       "    <tr style=\"text-align: right;\">\n",
       "      <th></th>\n",
       "      <th>Lattitude</th>\n",
       "      <th>Longitude</th>\n",
       "      <th>Text</th>\n",
       "    </tr>\n",
       "    <tr>\n",
       "      <th>Name</th>\n",
       "      <th></th>\n",
       "      <th></th>\n",
       "      <th></th>\n",
       "    </tr>\n",
       "  </thead>\n",
       "  <tbody>\n",
       "    <tr>\n",
       "      <th>A</th>\n",
       "      <td>55.952655</td>\n",
       "      <td>-3.210045</td>\n",
       "      <td>A</td>\n",
       "    </tr>\n",
       "    <tr>\n",
       "      <th>B</th>\n",
       "      <td>55.956500</td>\n",
       "      <td>-3.189775</td>\n",
       "      <td>B</td>\n",
       "    </tr>\n",
       "    <tr>\n",
       "      <th>C</th>\n",
       "      <td>55.951790</td>\n",
       "      <td>-3.201456</td>\n",
       "      <td>C</td>\n",
       "    </tr>\n",
       "    <tr>\n",
       "      <th>D</th>\n",
       "      <td>55.948138</td>\n",
       "      <td>-3.207124</td>\n",
       "      <td>D</td>\n",
       "    </tr>\n",
       "    <tr>\n",
       "      <th>E</th>\n",
       "      <td>55.948522</td>\n",
       "      <td>-3.192524</td>\n",
       "      <td>E</td>\n",
       "    </tr>\n",
       "    <tr>\n",
       "      <th>F</th>\n",
       "      <td>55.948426</td>\n",
       "      <td>-3.183076</td>\n",
       "      <td>F</td>\n",
       "    </tr>\n",
       "    <tr>\n",
       "      <th>G</th>\n",
       "      <td>55.948907</td>\n",
       "      <td>-3.189432</td>\n",
       "      <td>G</td>\n",
       "    </tr>\n",
       "    <tr>\n",
       "      <th>H</th>\n",
       "      <td>55.945160</td>\n",
       "      <td>-3.199756</td>\n",
       "      <td>H</td>\n",
       "    </tr>\n",
       "    <tr>\n",
       "      <th>I</th>\n",
       "      <td>55.944680</td>\n",
       "      <td>-3.188677</td>\n",
       "      <td>I</td>\n",
       "    </tr>\n",
       "    <tr>\n",
       "      <th>J</th>\n",
       "      <td>55.956069</td>\n",
       "      <td>-3.173905</td>\n",
       "      <td>J</td>\n",
       "    </tr>\n",
       "  </tbody>\n",
       "</table>\n",
       "</div>"
      ],
      "text/plain": [
       "      Lattitude  Longitude Text\n",
       "Name                           \n",
       "A     55.952655  -3.210045    A\n",
       "B     55.956500  -3.189775    B\n",
       "C     55.951790  -3.201456    C\n",
       "D     55.948138  -3.207124    D\n",
       "E     55.948522  -3.192524    E\n",
       "F     55.948426  -3.183076    F\n",
       "G     55.948907  -3.189432    G\n",
       "H     55.945160  -3.199756    H\n",
       "I     55.944680  -3.188677    I\n",
       "J     55.956069  -3.173905    J"
      ]
     },
     "execution_count": 3,
     "metadata": {},
     "output_type": "execute_result"
    }
   ],
   "source": [
    "#Load problem \n",
    "problem = pd.read_csv('./edinburgh.csv')\n",
    "problem['Text'] = problem['Name']\n",
    "problem = problem.set_index('Name')\n",
    "start = (55.932599,-3.214215)\n",
    "problem"
   ]
  },
  {
   "cell_type": "code",
   "execution_count": 5,
   "id": "f9188dbf",
   "metadata": {},
   "outputs": [],
   "source": [
    "#setup map\n",
    "#Note that the map setup can be slow to run\n",
    "ox.config( use_cache=True)\n",
    "address  = '10 Colinton Road, Edinburgh'\n",
    "mode      = 'drive'        # 'drive', 'bike', 'walk'\n",
    "optimizer = 'length'        # 'length','time'\n",
    "graph = ox.graph_from_address(address, dist=10000,network_type = mode)"
   ]
  },
  {
   "cell_type": "code",
   "execution_count": 6,
   "id": "723a674b",
   "metadata": {},
   "outputs": [],
   "source": [
    "#Find route + distance betwee 2 points\n",
    "def findroute(start, end):\n",
    "    orig_node = ox.get_nearest_node(graph, start)\n",
    "    dest_node = ox.get_nearest_node(graph, end)\n",
    "    dist = nx.shortest_path_length(graph,orig_node,dest_node,weight=optimizer)\n",
    "    shortest_route = nx.shortest_path(graph,orig_node,dest_node,weight=optimizer)\n",
    "    return dist, shortest_route"
   ]
  },
  {
   "cell_type": "code",
   "execution_count": 7,
   "id": "5974108d",
   "metadata": {},
   "outputs": [],
   "source": [
    "#Plot the points in the solution onto the map m\n",
    "def plotPoints(solution,m):\n",
    "    folium.Marker(location=start, popup=\"start\",icon=folium.DivIcon(html='<div style=\"font-family: courier new; font-weight: bold; color: red\">Start</div>')).add_to(m)\n",
    "    count=1\n",
    "    for city in solution:\n",
    "        loc = (problem.loc[city].Lattitude,problem.loc[city].Longitude)\n",
    "        name = problem.loc[city].Text +':'+str(count)\n",
    "        count=count+1\n",
    "        folium.Marker(location=loc, popup=\"start\",icon=folium.DivIcon(html='<div style=\"font-family: courier new; font-weight: bold; color: red\">'+name+'</div>')).add_to(m)"
   ]
  },
  {
   "cell_type": "code",
   "execution_count": 8,
   "id": "f5ff7520",
   "metadata": {},
   "outputs": [],
   "source": [
    "#Get the route represented by solution. Returns a set of OSM node refs. \n",
    "#To plot the route get the lat/lon of the OSM refs\n",
    "def getRoute(solution):\n",
    "    prev = start\n",
    "    route =[]\n",
    "    for city in solution:\n",
    "        loc = (problem.loc[city].Lattitude,problem.loc[city].Longitude)\n",
    "        d,r = findroute(prev,loc)\n",
    "        route = route + r\n",
    "        prev=loc\n",
    "    d,r = findroute(loc,prev)\n",
    "    route = route + r\n",
    "    return route"
   ]
  },
  {
   "cell_type": "code",
   "execution_count": 9,
   "id": "66c5d94c",
   "metadata": {},
   "outputs": [],
   "source": [
    "def drawMap(solution):\n",
    "    m = folium.Map(location=start, tiles=\"OpenStreetMap\", zoom_start=15)\n",
    "    plotPoints(solution,m)\n",
    "    route = getRoute(solution)\n",
    "    points = []\n",
    "    for n in route:\n",
    "        points.append([graph.nodes[n]['y'], graph.nodes[n]['x']])\n",
    "    \n",
    "    folium.PolyLine(points, color='red').add_to(m)\n",
    "    return(m)"
   ]
  },
  {
   "cell_type": "code",
   "execution_count": 10,
   "id": "f599c3be",
   "metadata": {},
   "outputs": [],
   "source": [
    "#Measure the distance travelled in a solution\n",
    "def measure(solution):\n",
    "    prev = start\n",
    "    dist =0;\n",
    "    for city in solution:\n",
    "        loc = (problem.loc[city].Lattitude,problem.loc[city].Longitude)\n",
    "        d,r = findroute(prev,loc)\n",
    "        dist = dist + d\n",
    "    d,r = findroute(loc,prev)\n",
    "    dist = dist + d\n",
    "    return dist\n",
    "\n"
   ]
  },
  {
   "cell_type": "code",
   "execution_count": 70,
   "id": "a5bb01a6",
   "metadata": {},
   "outputs": [],
   "source": [
    "def neighbour(city,options):\n",
    "    loc = (problem.loc[city].Lattitude,problem.loc[city].Longitude)\n",
    "    dist = sys.maxsize   \n",
    "    best = ''\n",
    "    for index, row in problem.iterrows():\n",
    "        p = (row['Lattitude'],row['Longitude'])\n",
    "        d,r = findroute(loc,p)\n",
    "        current = row['Text']\n",
    "        if (current != city):\n",
    "            if current in options:\n",
    "                if (d<dist):\n",
    "                    dist = d\n",
    "                    best = row['Text']\n",
    "    \n",
    "    options.remove(best)\n",
    "    return best,options"
   ]
  },
  {
   "cell_type": "code",
   "execution_count": 83,
   "id": "deaeaf42",
   "metadata": {},
   "outputs": [],
   "source": [
    "def swap_random(seq):\n",
    "    idx = range(len(seq))\n",
    "    i1, i2 = random.sample(idx, 2)\n",
    "    seq[i1], seq[i2] = seq[i2], seq[i1]"
   ]
  },
  {
   "cell_type": "markdown",
   "id": "0b1a3388",
   "metadata": {},
   "source": [
    "### Start Here!\n",
    "\n",
    "Can you solve the problem by re-arraging the deliveries?"
   ]
  },
  {
   "cell_type": "code",
   "execution_count": 54,
   "id": "2e203491",
   "metadata": {
    "scrolled": true
   },
   "outputs": [
    {
     "name": "stdout",
     "output_type": "stream",
     "text": [
      "33154.062000000005\n"
     ]
    },
    {
     "data": {
      "text/html": [
       "<div style=\"width:100%;\"><div style=\"position:relative;width:100%;height:0;padding-bottom:60%;\"><span style=\"color:#565656\">Make this Notebook Trusted to load map: File -> Trust Notebook</span><iframe src=\"about:blank\" style=\"position:absolute;width:100%;height:100%;left:0;top:0;border:none !important;\" data-html=%3C%21DOCTYPE%20html%3E%0A%3Chead%3E%20%20%20%20%0A%20%20%20%20%3Cmeta%20http-equiv%3D%22content-type%22%20content%3D%22text/html%3B%20charset%3DUTF-8%22%20/%3E%0A%20%20%20%20%0A%20%20%20%20%20%20%20%20%3Cscript%3E%0A%20%20%20%20%20%20%20%20%20%20%20%20L_NO_TOUCH%20%3D%20false%3B%0A%20%20%20%20%20%20%20%20%20%20%20%20L_DISABLE_3D%20%3D%20false%3B%0A%20%20%20%20%20%20%20%20%3C/script%3E%0A%20%20%20%20%0A%20%20%20%20%3Cstyle%3Ehtml%2C%20body%20%7Bwidth%3A%20100%25%3Bheight%3A%20100%25%3Bmargin%3A%200%3Bpadding%3A%200%3B%7D%3C/style%3E%0A%20%20%20%20%3Cstyle%3E%23map%20%7Bposition%3Aabsolute%3Btop%3A0%3Bbottom%3A0%3Bright%3A0%3Bleft%3A0%3B%7D%3C/style%3E%0A%20%20%20%20%3Cscript%20src%3D%22https%3A//cdn.jsdelivr.net/npm/leaflet%401.6.0/dist/leaflet.js%22%3E%3C/script%3E%0A%20%20%20%20%3Cscript%20src%3D%22https%3A//code.jquery.com/jquery-1.12.4.min.js%22%3E%3C/script%3E%0A%20%20%20%20%3Cscript%20src%3D%22https%3A//maxcdn.bootstrapcdn.com/bootstrap/3.2.0/js/bootstrap.min.js%22%3E%3C/script%3E%0A%20%20%20%20%3Cscript%20src%3D%22https%3A//cdnjs.cloudflare.com/ajax/libs/Leaflet.awesome-markers/2.0.2/leaflet.awesome-markers.js%22%3E%3C/script%3E%0A%20%20%20%20%3Clink%20rel%3D%22stylesheet%22%20href%3D%22https%3A//cdn.jsdelivr.net/npm/leaflet%401.6.0/dist/leaflet.css%22/%3E%0A%20%20%20%20%3Clink%20rel%3D%22stylesheet%22%20href%3D%22https%3A//maxcdn.bootstrapcdn.com/bootstrap/3.2.0/css/bootstrap.min.css%22/%3E%0A%20%20%20%20%3Clink%20rel%3D%22stylesheet%22%20href%3D%22https%3A//maxcdn.bootstrapcdn.com/bootstrap/3.2.0/css/bootstrap-theme.min.css%22/%3E%0A%20%20%20%20%3Clink%20rel%3D%22stylesheet%22%20href%3D%22https%3A//maxcdn.bootstrapcdn.com/font-awesome/4.6.3/css/font-awesome.min.css%22/%3E%0A%20%20%20%20%3Clink%20rel%3D%22stylesheet%22%20href%3D%22https%3A//cdnjs.cloudflare.com/ajax/libs/Leaflet.awesome-markers/2.0.2/leaflet.awesome-markers.css%22/%3E%0A%20%20%20%20%3Clink%20rel%3D%22stylesheet%22%20href%3D%22https%3A//cdn.jsdelivr.net/gh/python-visualization/folium/folium/templates/leaflet.awesome.rotate.min.css%22/%3E%0A%20%20%20%20%0A%20%20%20%20%20%20%20%20%20%20%20%20%3Cmeta%20name%3D%22viewport%22%20content%3D%22width%3Ddevice-width%2C%0A%20%20%20%20%20%20%20%20%20%20%20%20%20%20%20%20initial-scale%3D1.0%2C%20maximum-scale%3D1.0%2C%20user-scalable%3Dno%22%20/%3E%0A%20%20%20%20%20%20%20%20%20%20%20%20%3Cstyle%3E%0A%20%20%20%20%20%20%20%20%20%20%20%20%20%20%20%20%23map_7c27612354b34418a54737e7d3f40dd0%20%7B%0A%20%20%20%20%20%20%20%20%20%20%20%20%20%20%20%20%20%20%20%20position%3A%20relative%3B%0A%20%20%20%20%20%20%20%20%20%20%20%20%20%20%20%20%20%20%20%20width%3A%20100.0%25%3B%0A%20%20%20%20%20%20%20%20%20%20%20%20%20%20%20%20%20%20%20%20height%3A%20100.0%25%3B%0A%20%20%20%20%20%20%20%20%20%20%20%20%20%20%20%20%20%20%20%20left%3A%200.0%25%3B%0A%20%20%20%20%20%20%20%20%20%20%20%20%20%20%20%20%20%20%20%20top%3A%200.0%25%3B%0A%20%20%20%20%20%20%20%20%20%20%20%20%20%20%20%20%7D%0A%20%20%20%20%20%20%20%20%20%20%20%20%3C/style%3E%0A%20%20%20%20%20%20%20%20%0A%3C/head%3E%0A%3Cbody%3E%20%20%20%20%0A%20%20%20%20%0A%20%20%20%20%20%20%20%20%20%20%20%20%3Cdiv%20class%3D%22folium-map%22%20id%3D%22map_7c27612354b34418a54737e7d3f40dd0%22%20%3E%3C/div%3E%0A%20%20%20%20%20%20%20%20%0A%3C/body%3E%0A%3Cscript%3E%20%20%20%20%0A%20%20%20%20%0A%20%20%20%20%20%20%20%20%20%20%20%20var%20map_7c27612354b34418a54737e7d3f40dd0%20%3D%20L.map%28%0A%20%20%20%20%20%20%20%20%20%20%20%20%20%20%20%20%22map_7c27612354b34418a54737e7d3f40dd0%22%2C%0A%20%20%20%20%20%20%20%20%20%20%20%20%20%20%20%20%7B%0A%20%20%20%20%20%20%20%20%20%20%20%20%20%20%20%20%20%20%20%20center%3A%20%5B55.932599%2C%20-3.214215%5D%2C%0A%20%20%20%20%20%20%20%20%20%20%20%20%20%20%20%20%20%20%20%20crs%3A%20L.CRS.EPSG3857%2C%0A%20%20%20%20%20%20%20%20%20%20%20%20%20%20%20%20%20%20%20%20zoom%3A%2015%2C%0A%20%20%20%20%20%20%20%20%20%20%20%20%20%20%20%20%20%20%20%20zoomControl%3A%20true%2C%0A%20%20%20%20%20%20%20%20%20%20%20%20%20%20%20%20%20%20%20%20preferCanvas%3A%20false%2C%0A%20%20%20%20%20%20%20%20%20%20%20%20%20%20%20%20%7D%0A%20%20%20%20%20%20%20%20%20%20%20%20%29%3B%0A%0A%20%20%20%20%20%20%20%20%20%20%20%20%0A%0A%20%20%20%20%20%20%20%20%0A%20%20%20%20%0A%20%20%20%20%20%20%20%20%20%20%20%20var%20tile_layer_8e2536e49c6d47cea57067dc7da44cfc%20%3D%20L.tileLayer%28%0A%20%20%20%20%20%20%20%20%20%20%20%20%20%20%20%20%22https%3A//%7Bs%7D.tile.openstreetmap.org/%7Bz%7D/%7Bx%7D/%7By%7D.png%22%2C%0A%20%20%20%20%20%20%20%20%20%20%20%20%20%20%20%20%7B%22attribution%22%3A%20%22Data%20by%20%5Cu0026copy%3B%20%5Cu003ca%20href%3D%5C%22http%3A//openstreetmap.org%5C%22%5Cu003eOpenStreetMap%5Cu003c/a%5Cu003e%2C%20under%20%5Cu003ca%20href%3D%5C%22http%3A//www.openstreetmap.org/copyright%5C%22%5Cu003eODbL%5Cu003c/a%5Cu003e.%22%2C%20%22detectRetina%22%3A%20false%2C%20%22maxNativeZoom%22%3A%2018%2C%20%22maxZoom%22%3A%2018%2C%20%22minZoom%22%3A%200%2C%20%22noWrap%22%3A%20false%2C%20%22opacity%22%3A%201%2C%20%22subdomains%22%3A%20%22abc%22%2C%20%22tms%22%3A%20false%7D%0A%20%20%20%20%20%20%20%20%20%20%20%20%29.addTo%28map_7c27612354b34418a54737e7d3f40dd0%29%3B%0A%20%20%20%20%20%20%20%20%0A%20%20%20%20%0A%20%20%20%20%20%20%20%20%20%20%20%20var%20marker_550226019ad7423bb3fad84f147a65b8%20%3D%20L.marker%28%0A%20%20%20%20%20%20%20%20%20%20%20%20%20%20%20%20%5B55.932599%2C%20-3.214215%5D%2C%0A%20%20%20%20%20%20%20%20%20%20%20%20%20%20%20%20%7B%7D%0A%20%20%20%20%20%20%20%20%20%20%20%20%29.addTo%28map_7c27612354b34418a54737e7d3f40dd0%29%3B%0A%20%20%20%20%20%20%20%20%0A%20%20%20%20%0A%20%20%20%20%20%20%20%20%20%20%20%20var%20div_icon_64129bd601f34c71a10adad60b9fa855%20%3D%20L.divIcon%28%7B%22className%22%3A%20%22empty%22%2C%20%22html%22%3A%20%22%5Cu003cdiv%20style%3D%5C%22font-family%3A%20courier%20new%3B%20font-weight%3A%20bold%3B%20color%3A%20red%5C%22%5Cu003eStart%5Cu003c/div%5Cu003e%22%7D%29%3B%0A%20%20%20%20%20%20%20%20%20%20%20%20marker_550226019ad7423bb3fad84f147a65b8.setIcon%28div_icon_64129bd601f34c71a10adad60b9fa855%29%3B%0A%20%20%20%20%20%20%20%20%0A%20%20%20%20%0A%20%20%20%20%20%20%20%20var%20popup_54a3a45e2be24af482b8b5ab07661c26%20%3D%20L.popup%28%7B%22maxWidth%22%3A%20%22100%25%22%7D%29%3B%0A%0A%20%20%20%20%20%20%20%20%0A%20%20%20%20%20%20%20%20%20%20%20%20var%20html_46d38170f342466da8e0c9c6078cbae9%20%3D%20%24%28%60%3Cdiv%20id%3D%22html_46d38170f342466da8e0c9c6078cbae9%22%20style%3D%22width%3A%20100.0%25%3B%20height%3A%20100.0%25%3B%22%3Estart%3C/div%3E%60%29%5B0%5D%3B%0A%20%20%20%20%20%20%20%20%20%20%20%20popup_54a3a45e2be24af482b8b5ab07661c26.setContent%28html_46d38170f342466da8e0c9c6078cbae9%29%3B%0A%20%20%20%20%20%20%20%20%0A%0A%20%20%20%20%20%20%20%20marker_550226019ad7423bb3fad84f147a65b8.bindPopup%28popup_54a3a45e2be24af482b8b5ab07661c26%29%0A%20%20%20%20%20%20%20%20%3B%0A%0A%20%20%20%20%20%20%20%20%0A%20%20%20%20%0A%20%20%20%20%0A%20%20%20%20%20%20%20%20%20%20%20%20var%20marker_4842d260eb384382adb68ed5450ab89c%20%3D%20L.marker%28%0A%20%20%20%20%20%20%20%20%20%20%20%20%20%20%20%20%5B55.94516%2C%20-3.199756%5D%2C%0A%20%20%20%20%20%20%20%20%20%20%20%20%20%20%20%20%7B%7D%0A%20%20%20%20%20%20%20%20%20%20%20%20%29.addTo%28map_7c27612354b34418a54737e7d3f40dd0%29%3B%0A%20%20%20%20%20%20%20%20%0A%20%20%20%20%0A%20%20%20%20%20%20%20%20%20%20%20%20var%20div_icon_98f30b2f05484bc6ae99c45350ce193f%20%3D%20L.divIcon%28%7B%22className%22%3A%20%22empty%22%2C%20%22html%22%3A%20%22%5Cu003cdiv%20style%3D%5C%22font-family%3A%20courier%20new%3B%20font-weight%3A%20bold%3B%20color%3A%20red%5C%22%5Cu003eH%3A1%5Cu003c/div%5Cu003e%22%7D%29%3B%0A%20%20%20%20%20%20%20%20%20%20%20%20marker_4842d260eb384382adb68ed5450ab89c.setIcon%28div_icon_98f30b2f05484bc6ae99c45350ce193f%29%3B%0A%20%20%20%20%20%20%20%20%0A%20%20%20%20%0A%20%20%20%20%20%20%20%20var%20popup_3791fff700364a0c8bea8d6b12b6d18b%20%3D%20L.popup%28%7B%22maxWidth%22%3A%20%22100%25%22%7D%29%3B%0A%0A%20%20%20%20%20%20%20%20%0A%20%20%20%20%20%20%20%20%20%20%20%20var%20html_ea7563270bdc4438a995da8b09df71d7%20%3D%20%24%28%60%3Cdiv%20id%3D%22html_ea7563270bdc4438a995da8b09df71d7%22%20style%3D%22width%3A%20100.0%25%3B%20height%3A%20100.0%25%3B%22%3Estart%3C/div%3E%60%29%5B0%5D%3B%0A%20%20%20%20%20%20%20%20%20%20%20%20popup_3791fff700364a0c8bea8d6b12b6d18b.setContent%28html_ea7563270bdc4438a995da8b09df71d7%29%3B%0A%20%20%20%20%20%20%20%20%0A%0A%20%20%20%20%20%20%20%20marker_4842d260eb384382adb68ed5450ab89c.bindPopup%28popup_3791fff700364a0c8bea8d6b12b6d18b%29%0A%20%20%20%20%20%20%20%20%3B%0A%0A%20%20%20%20%20%20%20%20%0A%20%20%20%20%0A%20%20%20%20%0A%20%20%20%20%20%20%20%20%20%20%20%20var%20marker_934093fb59874ee1a88dfaf7d9db1e3e%20%3D%20L.marker%28%0A%20%20%20%20%20%20%20%20%20%20%20%20%20%20%20%20%5B55.948138%2C%20-3.207124%5D%2C%0A%20%20%20%20%20%20%20%20%20%20%20%20%20%20%20%20%7B%7D%0A%20%20%20%20%20%20%20%20%20%20%20%20%29.addTo%28map_7c27612354b34418a54737e7d3f40dd0%29%3B%0A%20%20%20%20%20%20%20%20%0A%20%20%20%20%0A%20%20%20%20%20%20%20%20%20%20%20%20var%20div_icon_abb3868933ce4a9da31f831f9789719f%20%3D%20L.divIcon%28%7B%22className%22%3A%20%22empty%22%2C%20%22html%22%3A%20%22%5Cu003cdiv%20style%3D%5C%22font-family%3A%20courier%20new%3B%20font-weight%3A%20bold%3B%20color%3A%20red%5C%22%5Cu003eD%3A2%5Cu003c/div%5Cu003e%22%7D%29%3B%0A%20%20%20%20%20%20%20%20%20%20%20%20marker_934093fb59874ee1a88dfaf7d9db1e3e.setIcon%28div_icon_abb3868933ce4a9da31f831f9789719f%29%3B%0A%20%20%20%20%20%20%20%20%0A%20%20%20%20%0A%20%20%20%20%20%20%20%20var%20popup_4e78a74dd2164e84871e3be787f3a6d1%20%3D%20L.popup%28%7B%22maxWidth%22%3A%20%22100%25%22%7D%29%3B%0A%0A%20%20%20%20%20%20%20%20%0A%20%20%20%20%20%20%20%20%20%20%20%20var%20html_a4731625e14440aeab9441dbfedb9905%20%3D%20%24%28%60%3Cdiv%20id%3D%22html_a4731625e14440aeab9441dbfedb9905%22%20style%3D%22width%3A%20100.0%25%3B%20height%3A%20100.0%25%3B%22%3Estart%3C/div%3E%60%29%5B0%5D%3B%0A%20%20%20%20%20%20%20%20%20%20%20%20popup_4e78a74dd2164e84871e3be787f3a6d1.setContent%28html_a4731625e14440aeab9441dbfedb9905%29%3B%0A%20%20%20%20%20%20%20%20%0A%0A%20%20%20%20%20%20%20%20marker_934093fb59874ee1a88dfaf7d9db1e3e.bindPopup%28popup_4e78a74dd2164e84871e3be787f3a6d1%29%0A%20%20%20%20%20%20%20%20%3B%0A%0A%20%20%20%20%20%20%20%20%0A%20%20%20%20%0A%20%20%20%20%0A%20%20%20%20%20%20%20%20%20%20%20%20var%20marker_fd068d2e7301425c990d36d249fdc092%20%3D%20L.marker%28%0A%20%20%20%20%20%20%20%20%20%20%20%20%20%20%20%20%5B55.952655%2C%20-3.210045%5D%2C%0A%20%20%20%20%20%20%20%20%20%20%20%20%20%20%20%20%7B%7D%0A%20%20%20%20%20%20%20%20%20%20%20%20%29.addTo%28map_7c27612354b34418a54737e7d3f40dd0%29%3B%0A%20%20%20%20%20%20%20%20%0A%20%20%20%20%0A%20%20%20%20%20%20%20%20%20%20%20%20var%20div_icon_2f35fe421fa345dc85d91c72645efd41%20%3D%20L.divIcon%28%7B%22className%22%3A%20%22empty%22%2C%20%22html%22%3A%20%22%5Cu003cdiv%20style%3D%5C%22font-family%3A%20courier%20new%3B%20font-weight%3A%20bold%3B%20color%3A%20red%5C%22%5Cu003eA%3A3%5Cu003c/div%5Cu003e%22%7D%29%3B%0A%20%20%20%20%20%20%20%20%20%20%20%20marker_fd068d2e7301425c990d36d249fdc092.setIcon%28div_icon_2f35fe421fa345dc85d91c72645efd41%29%3B%0A%20%20%20%20%20%20%20%20%0A%20%20%20%20%0A%20%20%20%20%20%20%20%20var%20popup_e2ebfcb3b1c04360b4775409e5655176%20%3D%20L.popup%28%7B%22maxWidth%22%3A%20%22100%25%22%7D%29%3B%0A%0A%20%20%20%20%20%20%20%20%0A%20%20%20%20%20%20%20%20%20%20%20%20var%20html_96b847c3aa8344f2912406c1b1d43ec2%20%3D%20%24%28%60%3Cdiv%20id%3D%22html_96b847c3aa8344f2912406c1b1d43ec2%22%20style%3D%22width%3A%20100.0%25%3B%20height%3A%20100.0%25%3B%22%3Estart%3C/div%3E%60%29%5B0%5D%3B%0A%20%20%20%20%20%20%20%20%20%20%20%20popup_e2ebfcb3b1c04360b4775409e5655176.setContent%28html_96b847c3aa8344f2912406c1b1d43ec2%29%3B%0A%20%20%20%20%20%20%20%20%0A%0A%20%20%20%20%20%20%20%20marker_fd068d2e7301425c990d36d249fdc092.bindPopup%28popup_e2ebfcb3b1c04360b4775409e5655176%29%0A%20%20%20%20%20%20%20%20%3B%0A%0A%20%20%20%20%20%20%20%20%0A%20%20%20%20%0A%20%20%20%20%0A%20%20%20%20%20%20%20%20%20%20%20%20var%20marker_8964d446d3fd43b1927a6475cde107e7%20%3D%20L.marker%28%0A%20%20%20%20%20%20%20%20%20%20%20%20%20%20%20%20%5B55.9565%2C%20-3.189775%5D%2C%0A%20%20%20%20%20%20%20%20%20%20%20%20%20%20%20%20%7B%7D%0A%20%20%20%20%20%20%20%20%20%20%20%20%29.addTo%28map_7c27612354b34418a54737e7d3f40dd0%29%3B%0A%20%20%20%20%20%20%20%20%0A%20%20%20%20%0A%20%20%20%20%20%20%20%20%20%20%20%20var%20div_icon_42cad33bcb9849cdbb83cabd857924f3%20%3D%20L.divIcon%28%7B%22className%22%3A%20%22empty%22%2C%20%22html%22%3A%20%22%5Cu003cdiv%20style%3D%5C%22font-family%3A%20courier%20new%3B%20font-weight%3A%20bold%3B%20color%3A%20red%5C%22%5Cu003eB%3A4%5Cu003c/div%5Cu003e%22%7D%29%3B%0A%20%20%20%20%20%20%20%20%20%20%20%20marker_8964d446d3fd43b1927a6475cde107e7.setIcon%28div_icon_42cad33bcb9849cdbb83cabd857924f3%29%3B%0A%20%20%20%20%20%20%20%20%0A%20%20%20%20%0A%20%20%20%20%20%20%20%20var%20popup_3fac9e8cf8d54cd399c80c35d494de60%20%3D%20L.popup%28%7B%22maxWidth%22%3A%20%22100%25%22%7D%29%3B%0A%0A%20%20%20%20%20%20%20%20%0A%20%20%20%20%20%20%20%20%20%20%20%20var%20html_b97d84c13bda4bc4a3a4f75fed8b7050%20%3D%20%24%28%60%3Cdiv%20id%3D%22html_b97d84c13bda4bc4a3a4f75fed8b7050%22%20style%3D%22width%3A%20100.0%25%3B%20height%3A%20100.0%25%3B%22%3Estart%3C/div%3E%60%29%5B0%5D%3B%0A%20%20%20%20%20%20%20%20%20%20%20%20popup_3fac9e8cf8d54cd399c80c35d494de60.setContent%28html_b97d84c13bda4bc4a3a4f75fed8b7050%29%3B%0A%20%20%20%20%20%20%20%20%0A%0A%20%20%20%20%20%20%20%20marker_8964d446d3fd43b1927a6475cde107e7.bindPopup%28popup_3fac9e8cf8d54cd399c80c35d494de60%29%0A%20%20%20%20%20%20%20%20%3B%0A%0A%20%20%20%20%20%20%20%20%0A%20%20%20%20%0A%20%20%20%20%0A%20%20%20%20%20%20%20%20%20%20%20%20var%20marker_b6f43d0fa4414c7fbb98703a6035105b%20%3D%20L.marker%28%0A%20%20%20%20%20%20%20%20%20%20%20%20%20%20%20%20%5B55.948426%2C%20-3.183076%5D%2C%0A%20%20%20%20%20%20%20%20%20%20%20%20%20%20%20%20%7B%7D%0A%20%20%20%20%20%20%20%20%20%20%20%20%29.addTo%28map_7c27612354b34418a54737e7d3f40dd0%29%3B%0A%20%20%20%20%20%20%20%20%0A%20%20%20%20%0A%20%20%20%20%20%20%20%20%20%20%20%20var%20div_icon_c80ba76bbc9442338a822362af59be67%20%3D%20L.divIcon%28%7B%22className%22%3A%20%22empty%22%2C%20%22html%22%3A%20%22%5Cu003cdiv%20style%3D%5C%22font-family%3A%20courier%20new%3B%20font-weight%3A%20bold%3B%20color%3A%20red%5C%22%5Cu003eF%3A5%5Cu003c/div%5Cu003e%22%7D%29%3B%0A%20%20%20%20%20%20%20%20%20%20%20%20marker_b6f43d0fa4414c7fbb98703a6035105b.setIcon%28div_icon_c80ba76bbc9442338a822362af59be67%29%3B%0A%20%20%20%20%20%20%20%20%0A%20%20%20%20%0A%20%20%20%20%20%20%20%20var%20popup_4d9e08f033cd411ba36d0d929502a731%20%3D%20L.popup%28%7B%22maxWidth%22%3A%20%22100%25%22%7D%29%3B%0A%0A%20%20%20%20%20%20%20%20%0A%20%20%20%20%20%20%20%20%20%20%20%20var%20html_13c27ad738ce472cbacf4bed5eb2be0e%20%3D%20%24%28%60%3Cdiv%20id%3D%22html_13c27ad738ce472cbacf4bed5eb2be0e%22%20style%3D%22width%3A%20100.0%25%3B%20height%3A%20100.0%25%3B%22%3Estart%3C/div%3E%60%29%5B0%5D%3B%0A%20%20%20%20%20%20%20%20%20%20%20%20popup_4d9e08f033cd411ba36d0d929502a731.setContent%28html_13c27ad738ce472cbacf4bed5eb2be0e%29%3B%0A%20%20%20%20%20%20%20%20%0A%0A%20%20%20%20%20%20%20%20marker_b6f43d0fa4414c7fbb98703a6035105b.bindPopup%28popup_4d9e08f033cd411ba36d0d929502a731%29%0A%20%20%20%20%20%20%20%20%3B%0A%0A%20%20%20%20%20%20%20%20%0A%20%20%20%20%0A%20%20%20%20%0A%20%20%20%20%20%20%20%20%20%20%20%20var%20marker_7768ee42ce944e5bb469cac9188ceb9f%20%3D%20L.marker%28%0A%20%20%20%20%20%20%20%20%20%20%20%20%20%20%20%20%5B55.948907%2C%20-3.189432%5D%2C%0A%20%20%20%20%20%20%20%20%20%20%20%20%20%20%20%20%7B%7D%0A%20%20%20%20%20%20%20%20%20%20%20%20%29.addTo%28map_7c27612354b34418a54737e7d3f40dd0%29%3B%0A%20%20%20%20%20%20%20%20%0A%20%20%20%20%0A%20%20%20%20%20%20%20%20%20%20%20%20var%20div_icon_5f1de6b27d2d4460a1009fbde19e8fb6%20%3D%20L.divIcon%28%7B%22className%22%3A%20%22empty%22%2C%20%22html%22%3A%20%22%5Cu003cdiv%20style%3D%5C%22font-family%3A%20courier%20new%3B%20font-weight%3A%20bold%3B%20color%3A%20red%5C%22%5Cu003eG%3A6%5Cu003c/div%5Cu003e%22%7D%29%3B%0A%20%20%20%20%20%20%20%20%20%20%20%20marker_7768ee42ce944e5bb469cac9188ceb9f.setIcon%28div_icon_5f1de6b27d2d4460a1009fbde19e8fb6%29%3B%0A%20%20%20%20%20%20%20%20%0A%20%20%20%20%0A%20%20%20%20%20%20%20%20var%20popup_567a550310e54166a413b960305fc084%20%3D%20L.popup%28%7B%22maxWidth%22%3A%20%22100%25%22%7D%29%3B%0A%0A%20%20%20%20%20%20%20%20%0A%20%20%20%20%20%20%20%20%20%20%20%20var%20html_652cf26837cf4d7a8f0100aa8a5ba7bb%20%3D%20%24%28%60%3Cdiv%20id%3D%22html_652cf26837cf4d7a8f0100aa8a5ba7bb%22%20style%3D%22width%3A%20100.0%25%3B%20height%3A%20100.0%25%3B%22%3Estart%3C/div%3E%60%29%5B0%5D%3B%0A%20%20%20%20%20%20%20%20%20%20%20%20popup_567a550310e54166a413b960305fc084.setContent%28html_652cf26837cf4d7a8f0100aa8a5ba7bb%29%3B%0A%20%20%20%20%20%20%20%20%0A%0A%20%20%20%20%20%20%20%20marker_7768ee42ce944e5bb469cac9188ceb9f.bindPopup%28popup_567a550310e54166a413b960305fc084%29%0A%20%20%20%20%20%20%20%20%3B%0A%0A%20%20%20%20%20%20%20%20%0A%20%20%20%20%0A%20%20%20%20%0A%20%20%20%20%20%20%20%20%20%20%20%20var%20marker_e45b0b474c8b4f9ea02b86384c98e3ef%20%3D%20L.marker%28%0A%20%20%20%20%20%20%20%20%20%20%20%20%20%20%20%20%5B55.948522%2C%20-3.192524%5D%2C%0A%20%20%20%20%20%20%20%20%20%20%20%20%20%20%20%20%7B%7D%0A%20%20%20%20%20%20%20%20%20%20%20%20%29.addTo%28map_7c27612354b34418a54737e7d3f40dd0%29%3B%0A%20%20%20%20%20%20%20%20%0A%20%20%20%20%0A%20%20%20%20%20%20%20%20%20%20%20%20var%20div_icon_b779b7f97d324bbeb086d5bc2374dc31%20%3D%20L.divIcon%28%7B%22className%22%3A%20%22empty%22%2C%20%22html%22%3A%20%22%5Cu003cdiv%20style%3D%5C%22font-family%3A%20courier%20new%3B%20font-weight%3A%20bold%3B%20color%3A%20red%5C%22%5Cu003eE%3A7%5Cu003c/div%5Cu003e%22%7D%29%3B%0A%20%20%20%20%20%20%20%20%20%20%20%20marker_e45b0b474c8b4f9ea02b86384c98e3ef.setIcon%28div_icon_b779b7f97d324bbeb086d5bc2374dc31%29%3B%0A%20%20%20%20%20%20%20%20%0A%20%20%20%20%0A%20%20%20%20%20%20%20%20var%20popup_dfee09dfee0b48f9a44e16ddb2aca748%20%3D%20L.popup%28%7B%22maxWidth%22%3A%20%22100%25%22%7D%29%3B%0A%0A%20%20%20%20%20%20%20%20%0A%20%20%20%20%20%20%20%20%20%20%20%20var%20html_6380c959ea694e1ab99f71a5c5bf896a%20%3D%20%24%28%60%3Cdiv%20id%3D%22html_6380c959ea694e1ab99f71a5c5bf896a%22%20style%3D%22width%3A%20100.0%25%3B%20height%3A%20100.0%25%3B%22%3Estart%3C/div%3E%60%29%5B0%5D%3B%0A%20%20%20%20%20%20%20%20%20%20%20%20popup_dfee09dfee0b48f9a44e16ddb2aca748.setContent%28html_6380c959ea694e1ab99f71a5c5bf896a%29%3B%0A%20%20%20%20%20%20%20%20%0A%0A%20%20%20%20%20%20%20%20marker_e45b0b474c8b4f9ea02b86384c98e3ef.bindPopup%28popup_dfee09dfee0b48f9a44e16ddb2aca748%29%0A%20%20%20%20%20%20%20%20%3B%0A%0A%20%20%20%20%20%20%20%20%0A%20%20%20%20%0A%20%20%20%20%0A%20%20%20%20%20%20%20%20%20%20%20%20var%20marker_895ce79c6718479babb13f715e298ace%20%3D%20L.marker%28%0A%20%20%20%20%20%20%20%20%20%20%20%20%20%20%20%20%5B55.94468%2C%20-3.188677%5D%2C%0A%20%20%20%20%20%20%20%20%20%20%20%20%20%20%20%20%7B%7D%0A%20%20%20%20%20%20%20%20%20%20%20%20%29.addTo%28map_7c27612354b34418a54737e7d3f40dd0%29%3B%0A%20%20%20%20%20%20%20%20%0A%20%20%20%20%0A%20%20%20%20%20%20%20%20%20%20%20%20var%20div_icon_4db8a7ad4dc247159f45a5c1b7deec49%20%3D%20L.divIcon%28%7B%22className%22%3A%20%22empty%22%2C%20%22html%22%3A%20%22%5Cu003cdiv%20style%3D%5C%22font-family%3A%20courier%20new%3B%20font-weight%3A%20bold%3B%20color%3A%20red%5C%22%5Cu003eI%3A8%5Cu003c/div%5Cu003e%22%7D%29%3B%0A%20%20%20%20%20%20%20%20%20%20%20%20marker_895ce79c6718479babb13f715e298ace.setIcon%28div_icon_4db8a7ad4dc247159f45a5c1b7deec49%29%3B%0A%20%20%20%20%20%20%20%20%0A%20%20%20%20%0A%20%20%20%20%20%20%20%20var%20popup_7cd0b99d2de2490c945ae481f9027769%20%3D%20L.popup%28%7B%22maxWidth%22%3A%20%22100%25%22%7D%29%3B%0A%0A%20%20%20%20%20%20%20%20%0A%20%20%20%20%20%20%20%20%20%20%20%20var%20html_ba0ecc9b3e204bfea0cc905f78a089ef%20%3D%20%24%28%60%3Cdiv%20id%3D%22html_ba0ecc9b3e204bfea0cc905f78a089ef%22%20style%3D%22width%3A%20100.0%25%3B%20height%3A%20100.0%25%3B%22%3Estart%3C/div%3E%60%29%5B0%5D%3B%0A%20%20%20%20%20%20%20%20%20%20%20%20popup_7cd0b99d2de2490c945ae481f9027769.setContent%28html_ba0ecc9b3e204bfea0cc905f78a089ef%29%3B%0A%20%20%20%20%20%20%20%20%0A%0A%20%20%20%20%20%20%20%20marker_895ce79c6718479babb13f715e298ace.bindPopup%28popup_7cd0b99d2de2490c945ae481f9027769%29%0A%20%20%20%20%20%20%20%20%3B%0A%0A%20%20%20%20%20%20%20%20%0A%20%20%20%20%0A%20%20%20%20%0A%20%20%20%20%20%20%20%20%20%20%20%20var%20marker_8355e80b6d6a46e99b0d5a2ea731f4af%20%3D%20L.marker%28%0A%20%20%20%20%20%20%20%20%20%20%20%20%20%20%20%20%5B55.956069%2C%20-3.173905%5D%2C%0A%20%20%20%20%20%20%20%20%20%20%20%20%20%20%20%20%7B%7D%0A%20%20%20%20%20%20%20%20%20%20%20%20%29.addTo%28map_7c27612354b34418a54737e7d3f40dd0%29%3B%0A%20%20%20%20%20%20%20%20%0A%20%20%20%20%0A%20%20%20%20%20%20%20%20%20%20%20%20var%20div_icon_33321e12f3b940d1b2f792f1c5051ed6%20%3D%20L.divIcon%28%7B%22className%22%3A%20%22empty%22%2C%20%22html%22%3A%20%22%5Cu003cdiv%20style%3D%5C%22font-family%3A%20courier%20new%3B%20font-weight%3A%20bold%3B%20color%3A%20red%5C%22%5Cu003eJ%3A9%5Cu003c/div%5Cu003e%22%7D%29%3B%0A%20%20%20%20%20%20%20%20%20%20%20%20marker_8355e80b6d6a46e99b0d5a2ea731f4af.setIcon%28div_icon_33321e12f3b940d1b2f792f1c5051ed6%29%3B%0A%20%20%20%20%20%20%20%20%0A%20%20%20%20%0A%20%20%20%20%20%20%20%20var%20popup_dbbdd483bf6c4078bd918e149b8b2d93%20%3D%20L.popup%28%7B%22maxWidth%22%3A%20%22100%25%22%7D%29%3B%0A%0A%20%20%20%20%20%20%20%20%0A%20%20%20%20%20%20%20%20%20%20%20%20var%20html_c13328525b6d4ded8500fe812ea5ddd0%20%3D%20%24%28%60%3Cdiv%20id%3D%22html_c13328525b6d4ded8500fe812ea5ddd0%22%20style%3D%22width%3A%20100.0%25%3B%20height%3A%20100.0%25%3B%22%3Estart%3C/div%3E%60%29%5B0%5D%3B%0A%20%20%20%20%20%20%20%20%20%20%20%20popup_dbbdd483bf6c4078bd918e149b8b2d93.setContent%28html_c13328525b6d4ded8500fe812ea5ddd0%29%3B%0A%20%20%20%20%20%20%20%20%0A%0A%20%20%20%20%20%20%20%20marker_8355e80b6d6a46e99b0d5a2ea731f4af.bindPopup%28popup_dbbdd483bf6c4078bd918e149b8b2d93%29%0A%20%20%20%20%20%20%20%20%3B%0A%0A%20%20%20%20%20%20%20%20%0A%20%20%20%20%0A%20%20%20%20%0A%20%20%20%20%20%20%20%20%20%20%20%20var%20marker_169b85b2d2a14a0a925f72157d0cb3ea%20%3D%20L.marker%28%0A%20%20%20%20%20%20%20%20%20%20%20%20%20%20%20%20%5B55.95179%2C%20-3.201456%5D%2C%0A%20%20%20%20%20%20%20%20%20%20%20%20%20%20%20%20%7B%7D%0A%20%20%20%20%20%20%20%20%20%20%20%20%29.addTo%28map_7c27612354b34418a54737e7d3f40dd0%29%3B%0A%20%20%20%20%20%20%20%20%0A%20%20%20%20%0A%20%20%20%20%20%20%20%20%20%20%20%20var%20div_icon_4df40297034343598b0b1c90891a2405%20%3D%20L.divIcon%28%7B%22className%22%3A%20%22empty%22%2C%20%22html%22%3A%20%22%5Cu003cdiv%20style%3D%5C%22font-family%3A%20courier%20new%3B%20font-weight%3A%20bold%3B%20color%3A%20red%5C%22%5Cu003eC%3A10%5Cu003c/div%5Cu003e%22%7D%29%3B%0A%20%20%20%20%20%20%20%20%20%20%20%20marker_169b85b2d2a14a0a925f72157d0cb3ea.setIcon%28div_icon_4df40297034343598b0b1c90891a2405%29%3B%0A%20%20%20%20%20%20%20%20%0A%20%20%20%20%0A%20%20%20%20%20%20%20%20var%20popup_210eb5a0910e4e78925c934b21193598%20%3D%20L.popup%28%7B%22maxWidth%22%3A%20%22100%25%22%7D%29%3B%0A%0A%20%20%20%20%20%20%20%20%0A%20%20%20%20%20%20%20%20%20%20%20%20var%20html_eeaf66aae1ed4900a42332d111d042cc%20%3D%20%24%28%60%3Cdiv%20id%3D%22html_eeaf66aae1ed4900a42332d111d042cc%22%20style%3D%22width%3A%20100.0%25%3B%20height%3A%20100.0%25%3B%22%3Estart%3C/div%3E%60%29%5B0%5D%3B%0A%20%20%20%20%20%20%20%20%20%20%20%20popup_210eb5a0910e4e78925c934b21193598.setContent%28html_eeaf66aae1ed4900a42332d111d042cc%29%3B%0A%20%20%20%20%20%20%20%20%0A%0A%20%20%20%20%20%20%20%20marker_169b85b2d2a14a0a925f72157d0cb3ea.bindPopup%28popup_210eb5a0910e4e78925c934b21193598%29%0A%20%20%20%20%20%20%20%20%3B%0A%0A%20%20%20%20%20%20%20%20%0A%20%20%20%20%0A%20%20%20%20%0A%20%20%20%20%20%20%20%20%20%20%20%20var%20poly_line_b7e25cc6166e4151a157e9c154e91aa3%20%3D%20L.polyline%28%0A%20%20%20%20%20%20%20%20%20%20%20%20%20%20%20%20%5B%5B55.9327136%2C%20-3.2138539%5D%2C%20%5B55.9333151%2C%20-3.2123129%5D%2C%20%5B55.933824%2C%20-3.2110094%5D%2C%20%5B55.9339943%2C%20-3.2105731%5D%2C%20%5B55.9341534%2C%20-3.2101285%5D%2C%20%5B55.9343162%2C%20-3.2101051%5D%2C%20%5B55.935673%2C%20-3.2099282%5D%2C%20%5B55.9357535%2C%20-3.2098726%5D%2C%20%5B55.9361512%2C%20-3.2089278%5D%2C%20%5B55.9366572%2C%20-3.2078082%5D%2C%20%5B55.9367201%2C%20-3.2076995%5D%2C%20%5B55.9371276%2C%20-3.2069953%5D%2C%20%5B55.937297%2C%20-3.2067123%5D%2C%20%5B55.9376979%2C%20-3.2060422%5D%2C%20%5B55.9395349%2C%20-3.2045922%5D%2C%20%5B55.939646%2C%20-3.2045491%5D%2C%20%5B55.9404811%2C%20-3.2038457%5D%2C%20%5B55.9407865%2C%20-3.2035762%5D%2C%20%5B55.9415366%2C%20-3.2034535%5D%2C%20%5B55.9419942%2C%20-3.2034253%5D%2C%20%5B55.9425944%2C%20-3.2035569%5D%2C%20%5B55.9431126%2C%20-3.2036716%5D%2C%20%5B55.9431852%2C%20-3.203682%5D%2C%20%5B55.9438168%2C%20-3.2037899%5D%2C%20%5B55.9438494%2C%20-3.2036336%5D%2C%20%5B55.944088%2C%20-3.2028398%5D%2C%20%5B55.9443768%2C%20-3.201868%5D%2C%20%5B55.9444812%2C%20-3.2013488%5D%2C%20%5B55.9447443%2C%20-3.2000401%5D%2C%20%5B55.9449331%2C%20-3.1990813%5D%2C%20%5B55.9449331%2C%20-3.1990813%5D%2C%20%5B55.9461333%2C%20-3.2010043%5D%2C%20%5B55.9468016%2C%20-3.2024247%5D%2C%20%5B55.9471366%2C%20-3.2020441%5D%2C%20%5B55.9475166%2C%20-3.2032106%5D%2C%20%5B55.9481322%2C%20-3.2045188%5D%2C%20%5B55.9487937%2C%20-3.2060359%5D%2C%20%5B55.9487261%2C%20-3.2065499%5D%2C%20%5B55.9484088%2C%20-3.2064407%5D%2C%20%5B55.9479919%2C%20-3.2062108%5D%2C%20%5B55.9479785%2C%20-3.2063372%5D%2C%20%5B55.9479665%2C%20-3.2064666%5D%2C%20%5B55.9478559%2C%20-3.207095%5D%2C%20%5B55.9475616%2C%20-3.2088247%5D%2C%20%5B55.9476084%2C%20-3.2088944%5D%2C%20%5B55.9479548%2C%20-3.207131%5D%2C%20%5B55.9479548%2C%20-3.207131%5D%2C%20%5B55.9481371%2C%20-3.2063912%5D%2C%20%5B55.9484088%2C%20-3.2064407%5D%2C%20%5B55.9487261%2C%20-3.2065499%5D%2C%20%5B55.9487921%2C%20-3.2065707%5D%2C%20%5B55.9492854%2C%20-3.2067576%5D%2C%20%5B55.9497378%2C%20-3.2069476%5D%2C%20%5B55.9498586%2C%20-3.207072%5D%2C%20%5B55.9501523%2C%20-3.2072454%5D%2C%20%5B55.9502626%2C%20-3.207143%5D%2C%20%5B55.9504443%2C%20-3.2060703%5D%2C%20%5B55.9506253%2C%20-3.2059359%5D%2C%20%5B55.9513536%2C%20-3.2063362%5D%2C%20%5B55.9518679%2C%20-3.2066188%5D%2C%20%5B55.9519887%2C%20-3.2066852%5D%2C%20%5B55.9526441%2C%20-3.2070454%5D%2C%20%5B55.9529848%2C%20-3.2072327%5D%2C%20%5B55.9533584%2C%20-3.207438%5D%2C%20%5B55.9531122%2C%20-3.2097341%5D%2C%20%5B55.9529007%2C%20-3.2106254%5D%2C%20%5B55.9529007%2C%20-3.2106254%5D%2C%20%5B55.9531122%2C%20-3.2097341%5D%2C%20%5B55.9533584%2C%20-3.207438%5D%2C%20%5B55.9535098%2C%20-3.2065953%5D%2C%20%5B55.9538972%2C%20-3.2042727%5D%2C%20%5B55.9544074%2C%20-3.2012652%5D%2C%20%5B55.9553832%2C%20-3.2017891%5D%2C%20%5B55.9559401%2C%20-3.1985575%5D%2C%20%5B55.9566014%2C%20-3.1961232%5D%2C%20%5B55.9568245%2C%20-3.1934569%5D%2C%20%5B55.9573353%2C%20-3.1905933%5D%2C%20%5B55.9569331%2C%20-3.1899647%5D%2C%20%5B55.9565432%2C%20-3.1894511%5D%2C%20%5B55.9565432%2C%20-3.1894511%5D%2C%20%5B55.9569331%2C%20-3.1899647%5D%2C%20%5B55.9573302%2C%20-3.1884444%5D%2C%20%5B55.9567322%2C%20-3.1878026%5D%2C%20%5B55.9574929%2C%20-3.1853088%5D%2C%20%5B55.9581409%2C%20-3.1846202%5D%2C%20%5B55.9581183%2C%20-3.1843776%5D%2C%20%5B55.9579118%2C%20-3.1843014%5D%2C%20%5B55.9573302%2C%20-3.1852054%5D%2C%20%5B55.9549424%2C%20-3.1870061%5D%2C%20%5B55.9545363%2C%20-3.1872837%5D%2C%20%5B55.9535579%2C%20-3.1885511%5D%2C%20%5B55.9534569%2C%20-3.1884993%5D%2C%20%5B55.9532762%2C%20-3.1890628%5D%2C%20%5B55.9501678%2C%20-3.1875481%5D%2C%20%5B55.9497134%2C%20-3.1873376%5D%2C%20%5B55.9480963%2C%20-3.1865308%5D%2C%20%5B55.9479946%2C%20-3.1864767%5D%2C%20%5B55.9479221%2C%20-3.1864338%5D%2C%20%5B55.9471886%2C%20-3.186056%5D%2C%20%5B55.9476053%2C%20-3.184613%5D%2C%20%5B55.9479091%2C%20-3.1836095%5D%2C%20%5B55.9483164%2C%20-3.1822719%5D%2C%20%5B55.9483164%2C%20-3.1822719%5D%2C%20%5B55.9479091%2C%20-3.1836095%5D%2C%20%5B55.9472235%2C%20-3.1829617%5D%2C%20%5B55.9474287%2C%20-3.1820855%5D%2C%20%5B55.9487027%2C%20-3.1823351%5D%2C%20%5B55.9490714%2C%20-3.1829016%5D%2C%20%5B55.9492365%2C%20-3.1832287%5D%2C%20%5B55.9491838%2C%20-3.1836253%5D%2C%20%5B55.9489692%2C%20-3.1855108%5D%2C%20%5B55.9487869%2C%20-3.1865261%5D%2C%20%5B55.9486717%2C%20-3.1873165%5D%2C%20%5B55.9485563%2C%20-3.188884%5D%2C%20%5B55.9485563%2C%20-3.188884%5D%2C%20%5B55.9478988%2C%20-3.1876386%5D%2C%20%5B55.9478098%2C%20-3.1875877%5D%2C%20%5B55.9476979%2C%20-3.1883922%5D%2C%20%5B55.9477127%2C%20-3.1885576%5D%2C%20%5B55.9470926%2C%20-3.1912832%5D%2C%20%5B55.9486736%2C%20-3.1922286%5D%2C%20%5B55.9486736%2C%20-3.1922286%5D%2C%20%5B55.9470926%2C%20-3.1912832%5D%2C%20%5B55.9468608%2C%20-3.1911343%5D%2C%20%5B55.9467879%2C%20-3.1910881%5D%2C%20%5B55.9464583%2C%20-3.1906495%5D%2C%20%5B55.945887%2C%20-3.1894951%5D%2C%20%5B55.9462722%2C%20-3.18882%5D%2C%20%5B55.9463497%2C%20-3.1874987%5D%2C%20%5B55.9447015%2C%20-3.1862862%5D%2C%20%5B55.9444562%2C%20-3.1877047%5D%2C%20%5B55.9449564%2C%20-3.1879582%5D%2C%20%5B55.9449564%2C%20-3.1879582%5D%2C%20%5B55.9444562%2C%20-3.1877047%5D%2C%20%5B55.9447015%2C%20-3.1862862%5D%2C%20%5B55.9443175%2C%20-3.1858738%5D%2C%20%5B55.9451214%2C%20-3.1842037%5D%2C%20%5B55.9454964%2C%20-3.1834319%5D%2C%20%5B55.9457731%2C%20-3.1828832%5D%2C%20%5B55.9458986%2C%20-3.181507%5D%2C%20%5B55.946351%2C%20-3.1816575%5D%2C%20%5B55.9466992%2C%20-3.1817983%5D%2C%20%5B55.9468432%2C%20-3.1818588%5D%2C%20%5B55.9474287%2C%20-3.1820855%5D%2C%20%5B55.9487027%2C%20-3.1823351%5D%2C%20%5B55.9490714%2C%20-3.1829016%5D%2C%20%5B55.9492365%2C%20-3.1832287%5D%2C%20%5B55.9493722%2C%20-3.1833479%5D%2C%20%5B55.9506406%2C%20-3.1841818%5D%2C%20%5B55.9506959%2C%20-3.1837771%5D%2C%20%5B55.9509159%2C%20-3.1822387%5D%2C%20%5B55.9512594%2C%20-3.1804345%5D%2C%20%5B55.9513594%2C%20-3.1799933%5D%2C%20%5B55.9521339%2C%20-3.1767688%5D%2C%20%5B55.9526869%2C%20-3.1746868%5D%2C%20%5B55.9527999%2C%20-3.1745876%5D%2C%20%5B55.9529696%2C%20-3.1746198%5D%2C%20%5B55.953925%2C%20-3.1738531%5D%2C%20%5B55.9540607%2C%20-3.1737195%5D%2C%20%5B55.9545873%2C%20-3.1732962%5D%2C%20%5B55.9549233%2C%20-3.1729404%5D%2C%20%5B55.9563326%2C%20-3.1722788%5D%2C%20%5B55.9567864%2C%20-3.1739071%5D%2C%20%5B55.9556174%2C%20-3.1741294%5D%2C%20%5B55.9556174%2C%20-3.1741294%5D%2C%20%5B55.9560763%2C%20-3.1749689%5D%2C%20%5B55.956297%2C%20-3.175188%5D%2C%20%5B55.9568338%2C%20-3.1751385%5D%2C%20%5B55.9578773%2C%20-3.1838485%5D%2C%20%5B55.9579118%2C%20-3.1843014%5D%2C%20%5B55.9573302%2C%20-3.1852054%5D%2C%20%5B55.9549424%2C%20-3.1870061%5D%2C%20%5B55.9545363%2C%20-3.1872837%5D%2C%20%5B55.9535579%2C%20-3.1885511%5D%2C%20%5B55.9534569%2C%20-3.1884993%5D%2C%20%5B55.9532762%2C%20-3.1890628%5D%2C%20%5B55.9531854%2C%20-3.1896056%5D%2C%20%5B55.9527304%2C%20-3.1922215%5D%2C%20%5B55.9525362%2C%20-3.1933461%5D%2C%20%5B55.9526334%2C%20-3.1934068%5D%2C%20%5B55.9534858%2C%20-3.1938418%5D%2C%20%5B55.9539816%2C%20-3.1941005%5D%2C%20%5B55.9534745%2C%20-3.1970785%5D%2C%20%5B55.9534129%2C%20-3.1972019%5D%2C%20%5B55.9534298%2C%20-3.1973744%5D%2C%20%5B55.9529409%2C%20-3.2002492%5D%2C%20%5B55.9528987%2C%20-3.2003409%5D%2C%20%5B55.9529061%2C%20-3.2004771%5D%2C%20%5B55.9524259%2C%20-3.2034027%5D%2C%20%5B55.9523849%2C%20-3.2034784%5D%2C%20%5B55.9516955%2C%20-3.2031071%5D%2C%20%5B55.9516955%2C%20-3.2031071%5D%5D%2C%0A%20%20%20%20%20%20%20%20%20%20%20%20%20%20%20%20%7B%22bubblingMouseEvents%22%3A%20true%2C%20%22color%22%3A%20%22red%22%2C%20%22dashArray%22%3A%20null%2C%20%22dashOffset%22%3A%20null%2C%20%22fill%22%3A%20false%2C%20%22fillColor%22%3A%20%22red%22%2C%20%22fillOpacity%22%3A%200.2%2C%20%22fillRule%22%3A%20%22evenodd%22%2C%20%22lineCap%22%3A%20%22round%22%2C%20%22lineJoin%22%3A%20%22round%22%2C%20%22noClip%22%3A%20false%2C%20%22opacity%22%3A%201.0%2C%20%22smoothFactor%22%3A%201.0%2C%20%22stroke%22%3A%20true%2C%20%22weight%22%3A%203%7D%0A%20%20%20%20%20%20%20%20%20%20%20%20%29.addTo%28map_7c27612354b34418a54737e7d3f40dd0%29%3B%0A%20%20%20%20%20%20%20%20%0A%3C/script%3E onload=\"this.contentDocument.open();this.contentDocument.write(    decodeURIComponent(this.getAttribute('data-html')));this.contentDocument.close();\" allowfullscreen webkitallowfullscreen mozallowfullscreen></iframe></div></div>"
      ],
      "text/plain": [
       "<folium.folium.Map at 0x18b365390>"
      ]
     },
     "execution_count": 54,
     "metadata": {},
     "output_type": "execute_result"
    }
   ],
   "source": [
    "solution = ['H','D','A','B','F','G','E','I','J','C']\n",
    "dist = measure (solution)\n",
    "print(dist)\n",
    "drawMap(solution)"
   ]
  },
  {
   "cell_type": "markdown",
   "id": "d567921e",
   "metadata": {},
   "source": [
    "## Use a heuristic  to find a solution"
   ]
  },
  {
   "cell_type": "code",
   "execution_count": 79,
   "id": "ad2d3b71",
   "metadata": {},
   "outputs": [
    {
     "name": "stdout",
     "output_type": "stream",
     "text": [
      "10076.153000000002\n"
     ]
    },
    {
     "data": {
      "text/html": [
       "<div style=\"width:100%;\"><div style=\"position:relative;width:100%;height:0;padding-bottom:60%;\"><span style=\"color:#565656\">Make this Notebook Trusted to load map: File -> Trust Notebook</span><iframe src=\"about:blank\" style=\"position:absolute;width:100%;height:100%;left:0;top:0;border:none !important;\" data-html=%3C%21DOCTYPE%20html%3E%0A%3Chead%3E%20%20%20%20%0A%20%20%20%20%3Cmeta%20http-equiv%3D%22content-type%22%20content%3D%22text/html%3B%20charset%3DUTF-8%22%20/%3E%0A%20%20%20%20%0A%20%20%20%20%20%20%20%20%3Cscript%3E%0A%20%20%20%20%20%20%20%20%20%20%20%20L_NO_TOUCH%20%3D%20false%3B%0A%20%20%20%20%20%20%20%20%20%20%20%20L_DISABLE_3D%20%3D%20false%3B%0A%20%20%20%20%20%20%20%20%3C/script%3E%0A%20%20%20%20%0A%20%20%20%20%3Cstyle%3Ehtml%2C%20body%20%7Bwidth%3A%20100%25%3Bheight%3A%20100%25%3Bmargin%3A%200%3Bpadding%3A%200%3B%7D%3C/style%3E%0A%20%20%20%20%3Cstyle%3E%23map%20%7Bposition%3Aabsolute%3Btop%3A0%3Bbottom%3A0%3Bright%3A0%3Bleft%3A0%3B%7D%3C/style%3E%0A%20%20%20%20%3Cscript%20src%3D%22https%3A//cdn.jsdelivr.net/npm/leaflet%401.6.0/dist/leaflet.js%22%3E%3C/script%3E%0A%20%20%20%20%3Cscript%20src%3D%22https%3A//code.jquery.com/jquery-1.12.4.min.js%22%3E%3C/script%3E%0A%20%20%20%20%3Cscript%20src%3D%22https%3A//maxcdn.bootstrapcdn.com/bootstrap/3.2.0/js/bootstrap.min.js%22%3E%3C/script%3E%0A%20%20%20%20%3Cscript%20src%3D%22https%3A//cdnjs.cloudflare.com/ajax/libs/Leaflet.awesome-markers/2.0.2/leaflet.awesome-markers.js%22%3E%3C/script%3E%0A%20%20%20%20%3Clink%20rel%3D%22stylesheet%22%20href%3D%22https%3A//cdn.jsdelivr.net/npm/leaflet%401.6.0/dist/leaflet.css%22/%3E%0A%20%20%20%20%3Clink%20rel%3D%22stylesheet%22%20href%3D%22https%3A//maxcdn.bootstrapcdn.com/bootstrap/3.2.0/css/bootstrap.min.css%22/%3E%0A%20%20%20%20%3Clink%20rel%3D%22stylesheet%22%20href%3D%22https%3A//maxcdn.bootstrapcdn.com/bootstrap/3.2.0/css/bootstrap-theme.min.css%22/%3E%0A%20%20%20%20%3Clink%20rel%3D%22stylesheet%22%20href%3D%22https%3A//maxcdn.bootstrapcdn.com/font-awesome/4.6.3/css/font-awesome.min.css%22/%3E%0A%20%20%20%20%3Clink%20rel%3D%22stylesheet%22%20href%3D%22https%3A//cdnjs.cloudflare.com/ajax/libs/Leaflet.awesome-markers/2.0.2/leaflet.awesome-markers.css%22/%3E%0A%20%20%20%20%3Clink%20rel%3D%22stylesheet%22%20href%3D%22https%3A//cdn.jsdelivr.net/gh/python-visualization/folium/folium/templates/leaflet.awesome.rotate.min.css%22/%3E%0A%20%20%20%20%0A%20%20%20%20%20%20%20%20%20%20%20%20%3Cmeta%20name%3D%22viewport%22%20content%3D%22width%3Ddevice-width%2C%0A%20%20%20%20%20%20%20%20%20%20%20%20%20%20%20%20initial-scale%3D1.0%2C%20maximum-scale%3D1.0%2C%20user-scalable%3Dno%22%20/%3E%0A%20%20%20%20%20%20%20%20%20%20%20%20%3Cstyle%3E%0A%20%20%20%20%20%20%20%20%20%20%20%20%20%20%20%20%23map_27f3cf45c48b4b458baf212953e36c46%20%7B%0A%20%20%20%20%20%20%20%20%20%20%20%20%20%20%20%20%20%20%20%20position%3A%20relative%3B%0A%20%20%20%20%20%20%20%20%20%20%20%20%20%20%20%20%20%20%20%20width%3A%20100.0%25%3B%0A%20%20%20%20%20%20%20%20%20%20%20%20%20%20%20%20%20%20%20%20height%3A%20100.0%25%3B%0A%20%20%20%20%20%20%20%20%20%20%20%20%20%20%20%20%20%20%20%20left%3A%200.0%25%3B%0A%20%20%20%20%20%20%20%20%20%20%20%20%20%20%20%20%20%20%20%20top%3A%200.0%25%3B%0A%20%20%20%20%20%20%20%20%20%20%20%20%20%20%20%20%7D%0A%20%20%20%20%20%20%20%20%20%20%20%20%3C/style%3E%0A%20%20%20%20%20%20%20%20%0A%3C/head%3E%0A%3Cbody%3E%20%20%20%20%0A%20%20%20%20%0A%20%20%20%20%20%20%20%20%20%20%20%20%3Cdiv%20class%3D%22folium-map%22%20id%3D%22map_27f3cf45c48b4b458baf212953e36c46%22%20%3E%3C/div%3E%0A%20%20%20%20%20%20%20%20%0A%3C/body%3E%0A%3Cscript%3E%20%20%20%20%0A%20%20%20%20%0A%20%20%20%20%20%20%20%20%20%20%20%20var%20map_27f3cf45c48b4b458baf212953e36c46%20%3D%20L.map%28%0A%20%20%20%20%20%20%20%20%20%20%20%20%20%20%20%20%22map_27f3cf45c48b4b458baf212953e36c46%22%2C%0A%20%20%20%20%20%20%20%20%20%20%20%20%20%20%20%20%7B%0A%20%20%20%20%20%20%20%20%20%20%20%20%20%20%20%20%20%20%20%20center%3A%20%5B55.932599%2C%20-3.214215%5D%2C%0A%20%20%20%20%20%20%20%20%20%20%20%20%20%20%20%20%20%20%20%20crs%3A%20L.CRS.EPSG3857%2C%0A%20%20%20%20%20%20%20%20%20%20%20%20%20%20%20%20%20%20%20%20zoom%3A%2015%2C%0A%20%20%20%20%20%20%20%20%20%20%20%20%20%20%20%20%20%20%20%20zoomControl%3A%20true%2C%0A%20%20%20%20%20%20%20%20%20%20%20%20%20%20%20%20%20%20%20%20preferCanvas%3A%20false%2C%0A%20%20%20%20%20%20%20%20%20%20%20%20%20%20%20%20%7D%0A%20%20%20%20%20%20%20%20%20%20%20%20%29%3B%0A%0A%20%20%20%20%20%20%20%20%20%20%20%20%0A%0A%20%20%20%20%20%20%20%20%0A%20%20%20%20%0A%20%20%20%20%20%20%20%20%20%20%20%20var%20tile_layer_dc4c84af24174e9e93ef411f0d0cbc05%20%3D%20L.tileLayer%28%0A%20%20%20%20%20%20%20%20%20%20%20%20%20%20%20%20%22https%3A//%7Bs%7D.tile.openstreetmap.org/%7Bz%7D/%7Bx%7D/%7By%7D.png%22%2C%0A%20%20%20%20%20%20%20%20%20%20%20%20%20%20%20%20%7B%22attribution%22%3A%20%22Data%20by%20%5Cu0026copy%3B%20%5Cu003ca%20href%3D%5C%22http%3A//openstreetmap.org%5C%22%5Cu003eOpenStreetMap%5Cu003c/a%5Cu003e%2C%20under%20%5Cu003ca%20href%3D%5C%22http%3A//www.openstreetmap.org/copyright%5C%22%5Cu003eODbL%5Cu003c/a%5Cu003e.%22%2C%20%22detectRetina%22%3A%20false%2C%20%22maxNativeZoom%22%3A%2018%2C%20%22maxZoom%22%3A%2018%2C%20%22minZoom%22%3A%200%2C%20%22noWrap%22%3A%20false%2C%20%22opacity%22%3A%201%2C%20%22subdomains%22%3A%20%22abc%22%2C%20%22tms%22%3A%20false%7D%0A%20%20%20%20%20%20%20%20%20%20%20%20%29.addTo%28map_27f3cf45c48b4b458baf212953e36c46%29%3B%0A%20%20%20%20%20%20%20%20%0A%20%20%20%20%0A%20%20%20%20%20%20%20%20%20%20%20%20var%20marker_8c19120e01d54b20a58fcd81a8b6fd28%20%3D%20L.marker%28%0A%20%20%20%20%20%20%20%20%20%20%20%20%20%20%20%20%5B55.932599%2C%20-3.214215%5D%2C%0A%20%20%20%20%20%20%20%20%20%20%20%20%20%20%20%20%7B%7D%0A%20%20%20%20%20%20%20%20%20%20%20%20%29.addTo%28map_27f3cf45c48b4b458baf212953e36c46%29%3B%0A%20%20%20%20%20%20%20%20%0A%20%20%20%20%0A%20%20%20%20%20%20%20%20%20%20%20%20var%20div_icon_76dc8748879942f8ae44e2efe0a7a90c%20%3D%20L.divIcon%28%7B%22className%22%3A%20%22empty%22%2C%20%22html%22%3A%20%22%5Cu003cdiv%20style%3D%5C%22font-family%3A%20courier%20new%3B%20font-weight%3A%20bold%3B%20color%3A%20red%5C%22%5Cu003eStart%5Cu003c/div%5Cu003e%22%7D%29%3B%0A%20%20%20%20%20%20%20%20%20%20%20%20marker_8c19120e01d54b20a58fcd81a8b6fd28.setIcon%28div_icon_76dc8748879942f8ae44e2efe0a7a90c%29%3B%0A%20%20%20%20%20%20%20%20%0A%20%20%20%20%0A%20%20%20%20%20%20%20%20var%20popup_fc7475ed26ab4b2f9e4482b26fe2a57a%20%3D%20L.popup%28%7B%22maxWidth%22%3A%20%22100%25%22%7D%29%3B%0A%0A%20%20%20%20%20%20%20%20%0A%20%20%20%20%20%20%20%20%20%20%20%20var%20html_bc94dc6995ae4a89938d87f749160115%20%3D%20%24%28%60%3Cdiv%20id%3D%22html_bc94dc6995ae4a89938d87f749160115%22%20style%3D%22width%3A%20100.0%25%3B%20height%3A%20100.0%25%3B%22%3Estart%3C/div%3E%60%29%5B0%5D%3B%0A%20%20%20%20%20%20%20%20%20%20%20%20popup_fc7475ed26ab4b2f9e4482b26fe2a57a.setContent%28html_bc94dc6995ae4a89938d87f749160115%29%3B%0A%20%20%20%20%20%20%20%20%0A%0A%20%20%20%20%20%20%20%20marker_8c19120e01d54b20a58fcd81a8b6fd28.bindPopup%28popup_fc7475ed26ab4b2f9e4482b26fe2a57a%29%0A%20%20%20%20%20%20%20%20%3B%0A%0A%20%20%20%20%20%20%20%20%0A%20%20%20%20%0A%20%20%20%20%0A%20%20%20%20%20%20%20%20%20%20%20%20var%20marker_21352eac6c4f431c8fb0527f669e3e51%20%3D%20L.marker%28%0A%20%20%20%20%20%20%20%20%20%20%20%20%20%20%20%20%5B55.95179%2C%20-3.201456%5D%2C%0A%20%20%20%20%20%20%20%20%20%20%20%20%20%20%20%20%7B%7D%0A%20%20%20%20%20%20%20%20%20%20%20%20%29.addTo%28map_27f3cf45c48b4b458baf212953e36c46%29%3B%0A%20%20%20%20%20%20%20%20%0A%20%20%20%20%0A%20%20%20%20%20%20%20%20%20%20%20%20var%20div_icon_037f620f215144e29e8c7a8f6e356147%20%3D%20L.divIcon%28%7B%22className%22%3A%20%22empty%22%2C%20%22html%22%3A%20%22%5Cu003cdiv%20style%3D%5C%22font-family%3A%20courier%20new%3B%20font-weight%3A%20bold%3B%20color%3A%20red%5C%22%5Cu003eC%3A1%5Cu003c/div%5Cu003e%22%7D%29%3B%0A%20%20%20%20%20%20%20%20%20%20%20%20marker_21352eac6c4f431c8fb0527f669e3e51.setIcon%28div_icon_037f620f215144e29e8c7a8f6e356147%29%3B%0A%20%20%20%20%20%20%20%20%0A%20%20%20%20%0A%20%20%20%20%20%20%20%20var%20popup_8a6f763820aa4aaea508f4e8fd307c69%20%3D%20L.popup%28%7B%22maxWidth%22%3A%20%22100%25%22%7D%29%3B%0A%0A%20%20%20%20%20%20%20%20%0A%20%20%20%20%20%20%20%20%20%20%20%20var%20html_2f3651042a5a49e6ab868c978df61d3e%20%3D%20%24%28%60%3Cdiv%20id%3D%22html_2f3651042a5a49e6ab868c978df61d3e%22%20style%3D%22width%3A%20100.0%25%3B%20height%3A%20100.0%25%3B%22%3Estart%3C/div%3E%60%29%5B0%5D%3B%0A%20%20%20%20%20%20%20%20%20%20%20%20popup_8a6f763820aa4aaea508f4e8fd307c69.setContent%28html_2f3651042a5a49e6ab868c978df61d3e%29%3B%0A%20%20%20%20%20%20%20%20%0A%0A%20%20%20%20%20%20%20%20marker_21352eac6c4f431c8fb0527f669e3e51.bindPopup%28popup_8a6f763820aa4aaea508f4e8fd307c69%29%0A%20%20%20%20%20%20%20%20%3B%0A%0A%20%20%20%20%20%20%20%20%0A%20%20%20%20%0A%20%20%20%20%0A%20%20%20%20%20%20%20%20%20%20%20%20var%20marker_a186ff812d2a4472866baec7fa0519e4%20%3D%20L.marker%28%0A%20%20%20%20%20%20%20%20%20%20%20%20%20%20%20%20%5B55.952655%2C%20-3.210045%5D%2C%0A%20%20%20%20%20%20%20%20%20%20%20%20%20%20%20%20%7B%7D%0A%20%20%20%20%20%20%20%20%20%20%20%20%29.addTo%28map_27f3cf45c48b4b458baf212953e36c46%29%3B%0A%20%20%20%20%20%20%20%20%0A%20%20%20%20%0A%20%20%20%20%20%20%20%20%20%20%20%20var%20div_icon_a7574b213efe4eea8c27c79d7a82ce32%20%3D%20L.divIcon%28%7B%22className%22%3A%20%22empty%22%2C%20%22html%22%3A%20%22%5Cu003cdiv%20style%3D%5C%22font-family%3A%20courier%20new%3B%20font-weight%3A%20bold%3B%20color%3A%20red%5C%22%5Cu003eA%3A2%5Cu003c/div%5Cu003e%22%7D%29%3B%0A%20%20%20%20%20%20%20%20%20%20%20%20marker_a186ff812d2a4472866baec7fa0519e4.setIcon%28div_icon_a7574b213efe4eea8c27c79d7a82ce32%29%3B%0A%20%20%20%20%20%20%20%20%0A%20%20%20%20%0A%20%20%20%20%20%20%20%20var%20popup_c6fdae2cac914700a1090b004d36b35e%20%3D%20L.popup%28%7B%22maxWidth%22%3A%20%22100%25%22%7D%29%3B%0A%0A%20%20%20%20%20%20%20%20%0A%20%20%20%20%20%20%20%20%20%20%20%20var%20html_dc6ad97111a14679badeb3d049f7be17%20%3D%20%24%28%60%3Cdiv%20id%3D%22html_dc6ad97111a14679badeb3d049f7be17%22%20style%3D%22width%3A%20100.0%25%3B%20height%3A%20100.0%25%3B%22%3Estart%3C/div%3E%60%29%5B0%5D%3B%0A%20%20%20%20%20%20%20%20%20%20%20%20popup_c6fdae2cac914700a1090b004d36b35e.setContent%28html_dc6ad97111a14679badeb3d049f7be17%29%3B%0A%20%20%20%20%20%20%20%20%0A%0A%20%20%20%20%20%20%20%20marker_a186ff812d2a4472866baec7fa0519e4.bindPopup%28popup_c6fdae2cac914700a1090b004d36b35e%29%0A%20%20%20%20%20%20%20%20%3B%0A%0A%20%20%20%20%20%20%20%20%0A%20%20%20%20%0A%20%20%20%20%0A%20%20%20%20%20%20%20%20%20%20%20%20var%20marker_3cfd1bee64c04895ada857df50f90875%20%3D%20L.marker%28%0A%20%20%20%20%20%20%20%20%20%20%20%20%20%20%20%20%5B55.948138%2C%20-3.207124%5D%2C%0A%20%20%20%20%20%20%20%20%20%20%20%20%20%20%20%20%7B%7D%0A%20%20%20%20%20%20%20%20%20%20%20%20%29.addTo%28map_27f3cf45c48b4b458baf212953e36c46%29%3B%0A%20%20%20%20%20%20%20%20%0A%20%20%20%20%0A%20%20%20%20%20%20%20%20%20%20%20%20var%20div_icon_32fbe6f75a784cd49c7f0b21f4421462%20%3D%20L.divIcon%28%7B%22className%22%3A%20%22empty%22%2C%20%22html%22%3A%20%22%5Cu003cdiv%20style%3D%5C%22font-family%3A%20courier%20new%3B%20font-weight%3A%20bold%3B%20color%3A%20red%5C%22%5Cu003eD%3A3%5Cu003c/div%5Cu003e%22%7D%29%3B%0A%20%20%20%20%20%20%20%20%20%20%20%20marker_3cfd1bee64c04895ada857df50f90875.setIcon%28div_icon_32fbe6f75a784cd49c7f0b21f4421462%29%3B%0A%20%20%20%20%20%20%20%20%0A%20%20%20%20%0A%20%20%20%20%20%20%20%20var%20popup_151866ed65c047cba6ab36df0c8c7723%20%3D%20L.popup%28%7B%22maxWidth%22%3A%20%22100%25%22%7D%29%3B%0A%0A%20%20%20%20%20%20%20%20%0A%20%20%20%20%20%20%20%20%20%20%20%20var%20html_9c73f4565b9c4e1d9b9608423611c36d%20%3D%20%24%28%60%3Cdiv%20id%3D%22html_9c73f4565b9c4e1d9b9608423611c36d%22%20style%3D%22width%3A%20100.0%25%3B%20height%3A%20100.0%25%3B%22%3Estart%3C/div%3E%60%29%5B0%5D%3B%0A%20%20%20%20%20%20%20%20%20%20%20%20popup_151866ed65c047cba6ab36df0c8c7723.setContent%28html_9c73f4565b9c4e1d9b9608423611c36d%29%3B%0A%20%20%20%20%20%20%20%20%0A%0A%20%20%20%20%20%20%20%20marker_3cfd1bee64c04895ada857df50f90875.bindPopup%28popup_151866ed65c047cba6ab36df0c8c7723%29%0A%20%20%20%20%20%20%20%20%3B%0A%0A%20%20%20%20%20%20%20%20%0A%20%20%20%20%0A%20%20%20%20%0A%20%20%20%20%20%20%20%20%20%20%20%20var%20poly_line_5a6fd987b22e4991b2208de145d9d323%20%3D%20L.polyline%28%0A%20%20%20%20%20%20%20%20%20%20%20%20%20%20%20%20%5B%5B55.9327136%2C%20-3.2138539%5D%2C%20%5B55.9333151%2C%20-3.2123129%5D%2C%20%5B55.933824%2C%20-3.2110094%5D%2C%20%5B55.9339943%2C%20-3.2105731%5D%2C%20%5B55.9341534%2C%20-3.2101285%5D%2C%20%5B55.9343162%2C%20-3.2101051%5D%2C%20%5B55.935673%2C%20-3.2099282%5D%2C%20%5B55.9357535%2C%20-3.2098726%5D%2C%20%5B55.9361512%2C%20-3.2089278%5D%2C%20%5B55.9366572%2C%20-3.2078082%5D%2C%20%5B55.9367201%2C%20-3.2076995%5D%2C%20%5B55.9371276%2C%20-3.2069953%5D%2C%20%5B55.937297%2C%20-3.2067123%5D%2C%20%5B55.9376979%2C%20-3.2060422%5D%2C%20%5B55.9395349%2C%20-3.2045922%5D%2C%20%5B55.939646%2C%20-3.2045491%5D%2C%20%5B55.9404811%2C%20-3.2038457%5D%2C%20%5B55.9407865%2C%20-3.2035762%5D%2C%20%5B55.9415366%2C%20-3.2034535%5D%2C%20%5B55.9419942%2C%20-3.2034253%5D%2C%20%5B55.9425944%2C%20-3.2035569%5D%2C%20%5B55.9431126%2C%20-3.2036716%5D%2C%20%5B55.9431852%2C%20-3.203682%5D%2C%20%5B55.9438168%2C%20-3.2037899%5D%2C%20%5B55.9448017%2C%20-3.2050551%5D%2C%20%5B55.9458186%2C%20-3.2055114%5D%2C%20%5B55.9464123%2C%20-3.205717%5D%2C%20%5B55.9472808%2C%20-3.2060263%5D%2C%20%5B55.9475168%2C%20-3.2061102%5D%2C%20%5B55.9479785%2C%20-3.2063372%5D%2C%20%5B55.9481371%2C%20-3.2063912%5D%2C%20%5B55.9484088%2C%20-3.2064407%5D%2C%20%5B55.9487261%2C%20-3.2065499%5D%2C%20%5B55.9487921%2C%20-3.2065707%5D%2C%20%5B55.9492854%2C%20-3.2067576%5D%2C%20%5B55.9497378%2C%20-3.2069476%5D%2C%20%5B55.9498586%2C%20-3.207072%5D%2C%20%5B55.9501523%2C%20-3.2072454%5D%2C%20%5B55.9502626%2C%20-3.207143%5D%2C%20%5B55.9504443%2C%20-3.2060703%5D%2C%20%5B55.9506253%2C%20-3.2059359%5D%2C%20%5B55.9513536%2C%20-3.2063362%5D%2C%20%5B55.9518679%2C%20-3.2066188%5D%2C%20%5B55.9519887%2C%20-3.2066852%5D%2C%20%5B55.9520583%2C%20-3.2062587%5D%2C%20%5B55.9524985%2C%20-3.2036358%5D%2C%20%5B55.9525466%2C%20-3.20356%5D%2C%20%5B55.9525287%2C%20-3.2034462%5D%2C%20%5B55.9524259%2C%20-3.2034027%5D%2C%20%5B55.9523849%2C%20-3.2034784%5D%2C%20%5B55.9516955%2C%20-3.2031071%5D%2C%20%5B55.9516955%2C%20-3.2031071%5D%2C%20%5B55.9523849%2C%20-3.2034784%5D%2C%20%5B55.952394%2C%20-3.2035731%5D%2C%20%5B55.9519415%2C%20-3.2061947%5D%2C%20%5B55.9518679%2C%20-3.2066188%5D%2C%20%5B55.9519887%2C%20-3.2066852%5D%2C%20%5B55.9526441%2C%20-3.2070454%5D%2C%20%5B55.9529848%2C%20-3.2072327%5D%2C%20%5B55.9533584%2C%20-3.207438%5D%2C%20%5B55.9531122%2C%20-3.2097341%5D%2C%20%5B55.9529007%2C%20-3.2106254%5D%2C%20%5B55.9529007%2C%20-3.2106254%5D%2C%20%5B55.9531122%2C%20-3.2097341%5D%2C%20%5B55.9533584%2C%20-3.207438%5D%2C%20%5B55.9535098%2C%20-3.2065953%5D%2C%20%5B55.9529848%2C%20-3.2072327%5D%2C%20%5B55.9526441%2C%20-3.2070454%5D%2C%20%5B55.9519887%2C%20-3.2066852%5D%2C%20%5B55.9518679%2C%20-3.2066188%5D%2C%20%5B55.9513536%2C%20-3.2063362%5D%2C%20%5B55.9506253%2C%20-3.2059359%5D%2C%20%5B55.9504825%2C%20-3.2058342%5D%2C%20%5B55.9501977%2C%20-3.2069348%5D%2C%20%5B55.9499512%2C%20-3.2069833%5D%2C%20%5B55.9497378%2C%20-3.2069476%5D%2C%20%5B55.9492854%2C%20-3.2067576%5D%2C%20%5B55.9489957%2C%20-3.2065807%5D%2C%20%5B55.9487921%2C%20-3.2065707%5D%2C%20%5B55.9487261%2C%20-3.2065499%5D%2C%20%5B55.9484088%2C%20-3.2064407%5D%2C%20%5B55.9479919%2C%20-3.2062108%5D%2C%20%5B55.9479785%2C%20-3.2063372%5D%2C%20%5B55.9479665%2C%20-3.2064666%5D%2C%20%5B55.9478559%2C%20-3.207095%5D%2C%20%5B55.9475616%2C%20-3.2088247%5D%2C%20%5B55.9476084%2C%20-3.2088944%5D%2C%20%5B55.9479548%2C%20-3.207131%5D%2C%20%5B55.9479548%2C%20-3.207131%5D%5D%2C%0A%20%20%20%20%20%20%20%20%20%20%20%20%20%20%20%20%7B%22bubblingMouseEvents%22%3A%20true%2C%20%22color%22%3A%20%22red%22%2C%20%22dashArray%22%3A%20null%2C%20%22dashOffset%22%3A%20null%2C%20%22fill%22%3A%20false%2C%20%22fillColor%22%3A%20%22red%22%2C%20%22fillOpacity%22%3A%200.2%2C%20%22fillRule%22%3A%20%22evenodd%22%2C%20%22lineCap%22%3A%20%22round%22%2C%20%22lineJoin%22%3A%20%22round%22%2C%20%22noClip%22%3A%20false%2C%20%22opacity%22%3A%201.0%2C%20%22smoothFactor%22%3A%201.0%2C%20%22stroke%22%3A%20true%2C%20%22weight%22%3A%203%7D%0A%20%20%20%20%20%20%20%20%20%20%20%20%29.addTo%28map_27f3cf45c48b4b458baf212953e36c46%29%3B%0A%20%20%20%20%20%20%20%20%0A%3C/script%3E onload=\"this.contentDocument.open();this.contentDocument.write(    decodeURIComponent(this.getAttribute('data-html')));this.contentDocument.close();\" allowfullscreen webkitallowfullscreen mozallowfullscreen></iframe></div></div>"
      ],
      "text/plain": [
       "<folium.folium.Map at 0x194676b30>"
      ]
     },
     "execution_count": 79,
     "metadata": {},
     "output_type": "execute_result"
    }
   ],
   "source": [
    "solution = []\n",
    "possible = ['H','D','A','B','F','G','E','I','J','C']\n",
    "\n",
    "best, remaining = neighbour('A',possible)\n",
    "solution.append(best)\n",
    "\n",
    "best, remaining = neighbour(best,possible)\n",
    "solution.append(best)\n",
    "\n",
    "best, remaining = neighbour(best,possible)\n",
    "solution.append(best)\n",
    "\n",
    "dist = measure (solution)\n",
    "print(dist)\n",
    "drawMap(solution)"
   ]
  },
  {
   "cell_type": "code",
   "execution_count": 77,
   "id": "61abc973",
   "metadata": {},
   "outputs": [
    {
     "data": {
      "text/plain": [
       "['C', 'A', 'D']"
      ]
     },
     "execution_count": 77,
     "metadata": {},
     "output_type": "execute_result"
    }
   ],
   "source": [
    "solution"
   ]
  },
  {
   "cell_type": "markdown",
   "id": "a5ba4544",
   "metadata": {},
   "source": [
    "## Simple hill climber....."
   ]
  },
  {
   "cell_type": "code",
   "execution_count": 99,
   "id": "1b318d9f",
   "metadata": {},
   "outputs": [
    {
     "name": "stdout",
     "output_type": "stream",
     "text": [
      "0 : 32161.168000000005 ['A', 'D', 'C', 'B', 'F', 'G', 'E', 'I', 'J', 'H']\n",
      "Found new best! 32161.168000000005\n",
      "1 : 32161.168 ['A', 'F', 'C', 'B', 'D', 'G', 'E', 'I', 'J', 'H']\n",
      "Found new best! 32161.168\n",
      "2 : 32161.168 ['A', 'J', 'C', 'B', 'D', 'G', 'E', 'I', 'F', 'H']\n",
      "3 : 33831.28200000001 ['A', 'H', 'C', 'B', 'D', 'G', 'E', 'I', 'J', 'F']\n",
      "4 : 32161.168 ['A', 'F', 'C', 'D', 'B', 'G', 'E', 'I', 'J', 'H']\n",
      "5 : 32161.168 ['A', 'F', 'C', 'B', 'D', 'G', 'E', 'J', 'I', 'H']\n",
      "6 : 32161.168 ['A', 'F', 'C', 'B', 'D', 'E', 'G', 'I', 'J', 'H']\n",
      "7 : 32161.168 ['A', 'E', 'C', 'B', 'D', 'G', 'F', 'I', 'J', 'H']\n",
      "8 : 32161.168 ['A', 'F', 'C', 'B', 'G', 'D', 'E', 'I', 'J', 'H']\n",
      "9 : 32161.168 ['A', 'F', 'C', 'E', 'D', 'G', 'B', 'I', 'J', 'H']\n",
      "10 : 32430.688000000002 ['A', 'F', 'C', 'B', 'H', 'G', 'E', 'I', 'J', 'D']\n",
      "11 : 32161.168 ['A', 'F', 'C', 'B', 'D', 'E', 'G', 'I', 'J', 'H']\n",
      "12 : 32161.168 ['A', 'F', 'C', 'B', 'D', 'I', 'E', 'G', 'J', 'H']\n",
      "13 : 32161.168 ['A', 'F', 'C', 'B', 'D', 'G', 'E', 'J', 'I', 'H']\n",
      "14 : 32161.168000000005 ['A', 'B', 'C', 'F', 'D', 'G', 'E', 'I', 'J', 'H']\n",
      "15 : 32161.168 ['A', 'F', 'B', 'C', 'D', 'G', 'E', 'I', 'J', 'H']\n",
      "16 : 32161.168000000005 ['A', 'B', 'C', 'F', 'D', 'G', 'E', 'I', 'J', 'H']\n",
      "17 : 32161.168 ['A', 'E', 'C', 'B', 'D', 'G', 'F', 'I', 'J', 'H']\n",
      "18 : 32161.168 ['A', 'F', 'C', 'B', 'G', 'D', 'E', 'I', 'J', 'H']\n",
      "19 : 32161.168 ['A', 'F', 'C', 'J', 'D', 'G', 'E', 'I', 'B', 'H']\n"
     ]
    }
   ],
   "source": [
    "sol = ['C','D','A','B','F','G','E','I','J','H']\n",
    "best = measure (possible)\n",
    "\n",
    "for x in range(0, 20):\n",
    "    old = sol.copy()\n",
    "    swap_random(sol)\n",
    "    n = measure (sol)\n",
    "    print(str(x) + \" : \" + str(n) + \" \" + str(sol))\n",
    "    if (n >= best):\n",
    "        sol = old\n",
    "    else:\n",
    "        print(\"Found new best! \"+ str(n))\n",
    "        best = n\n",
    "\n"
   ]
  },
  {
   "cell_type": "code",
   "execution_count": null,
   "id": "95196ff6",
   "metadata": {},
   "outputs": [],
   "source": []
  }
 ],
 "metadata": {
  "kernelspec": {
   "display_name": "Python [conda env:ox]",
   "language": "python",
   "name": "conda-env-ox-py"
  },
  "language_info": {
   "codemirror_mode": {
    "name": "ipython",
    "version": 3
   },
   "file_extension": ".py",
   "mimetype": "text/x-python",
   "name": "python",
   "nbconvert_exporter": "python",
   "pygments_lexer": "ipython3",
   "version": "3.10.4"
  }
 },
 "nbformat": 4,
 "nbformat_minor": 5
}
