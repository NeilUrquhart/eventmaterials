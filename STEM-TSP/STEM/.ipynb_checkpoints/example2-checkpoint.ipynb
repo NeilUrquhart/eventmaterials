{
 "cells": [
  {
   "cell_type": "markdown",
   "id": "9cb76429",
   "metadata": {},
   "source": [
    "# TSP Activity"
   ]
  },
  {
   "cell_type": "code",
   "execution_count": null,
   "id": "49c4d7df",
   "metadata": {},
   "outputs": [],
   "source": [
    "#This code hides warnings - use it to make it easier to novice users, but comment it out when developeing/debugging as\n",
    "# warnings may be useful!!\n",
    "\n",
    "import warnings\n",
    "warnings.filterwarnings('ignore')"
   ]
  },
  {
   "cell_type": "code",
   "execution_count": null,
   "id": "38d8bf5a",
   "metadata": {},
   "outputs": [],
   "source": [
    "# import osmnx as ox\n",
    "# import networkx as nx\n",
    "import pandas as pd\n",
    "# import folium\n",
    "import sys\n",
    "import random\n",
    "import math\n",
    "import matplotlib.pyplot as plt\n",
    "import matplotlib.image as mpimg\n",
    "import numpy as np\n",
    "!{sys.executable} -m pip install utm\n",
    "import utm"
   ]
  },
  {
   "cell_type": "code",
   "execution_count": null,
   "id": "18a8249a",
   "metadata": {},
   "outputs": [],
   "source": [
    "#Load problem \n",
    "problem = pd.read_csv('./edinburgh.csv')\n",
    "problem['Text'] = problem['Name']\n",
    "problem = problem.set_index('Name')\n",
    "start = (55.932599,-3.214215)\n",
    "problem"
   ]
  },
  {
   "cell_type": "code",
   "execution_count": null,
   "id": "f9188dbf",
   "metadata": {},
   "outputs": [],
   "source": [
    "#setup map\n",
    "#Note that the map setup can be slow to run\n",
    "ox.config( use_cache=True)\n",
    "address  = '10 Colinton Road, Edinburgh'\n",
    "mode      = 'drive'        # 'drive', 'bike', 'walk'\n",
    "optimizer = 'length'        # 'length','time'\n",
    "graph = ox.graph_from_address(address, dist=10000,network_type = mode)"
   ]
  },
  {
   "cell_type": "code",
   "execution_count": null,
   "id": "723a674b",
   "metadata": {},
   "outputs": [],
   "source": [
    "#Find route + distance betwee 2 points\n",
    "def findroute(start, end):\n",
    "    orig_node = ox.get_nearest_node(graph, start)\n",
    "    dest_node = ox.get_nearest_node(graph, end)\n",
    "    dist = nx.shortest_path_length(graph,orig_node,dest_node,weight=optimizer)\n",
    "    shortest_route = nx.shortest_path(graph,orig_node,dest_node,weight=optimizer)\n",
    "    return dist, shortest_route"
   ]
  },
  {
   "cell_type": "code",
   "execution_count": null,
   "id": "5974108d",
   "metadata": {},
   "outputs": [],
   "source": [
    "#Plot the points in the solution onto the map m\n",
    "def plotPoints(solution,m):\n",
    "    folium.Marker(location=start, popup=\"start\",icon=folium.DivIcon(html='<div style=\"font-family: courier new; font-weight: bold; color: red\">Start</div>')).add_to(m)\n",
    "    count=1\n",
    "    for city in solution:\n",
    "        loc = (problem.loc[city].Lattitude,problem.loc[city].Longitude)\n",
    "        name = problem.loc[city].Text +':'+str(count)\n",
    "        count=count+1\n",
    "        folium.Marker(location=loc, popup=\"start\",icon=folium.DivIcon(html='<div style=\"font-family: courier new; font-weight: bold; color: red\">'+name+'</div>')).add_to(m)"
   ]
  },
  {
   "cell_type": "code",
   "execution_count": null,
   "id": "f5ff7520",
   "metadata": {},
   "outputs": [],
   "source": [
    "#Get the route represented by solution. Returns a set of OSM node refs. \n",
    "#To plot the route get the lat/lon of the OSM refs\n",
    "def getRoute(solution):\n",
    "    prev = start\n",
    "    route =[]\n",
    "    for city in solution:\n",
    "        loc = (problem.loc[city].Lattitude,problem.loc[city].Longitude)\n",
    "        d,r = findroute(prev,loc)\n",
    "        route = route + r\n",
    "        prev=loc\n",
    "    d,r = findroute(loc,prev)\n",
    "    route = route + r\n",
    "    return route"
   ]
  },
  {
   "cell_type": "code",
   "execution_count": null,
   "id": "66c5d94c",
   "metadata": {},
   "outputs": [],
   "source": [
    "def drawMap(solution):\n",
    "    m = folium.Map(location=start, tiles=\"OpenStreetMap\", zoom_start=15)\n",
    "    plotPoints(solution,m)\n",
    "    route = getRoute(solution)\n",
    "    points = []\n",
    "    for n in route:\n",
    "        points.append([graph.nodes[n]['y'], graph.nodes[n]['x']])\n",
    "    \n",
    "    folium.PolyLine(points, color='red').add_to(m)\n",
    "    return(m)"
   ]
  },
  {
   "cell_type": "code",
   "execution_count": null,
   "id": "f599c3be",
   "metadata": {},
   "outputs": [],
   "source": [
    "#Measure the distance travelled in a solution\n",
    "def measure(solution):\n",
    "    prev = start\n",
    "    dist =0;\n",
    "    for city in solution:\n",
    "        loc = (problem.loc[city].Lattitude,problem.loc[city].Longitude)\n",
    "        d,r = findroute(prev,loc)\n",
    "        dist = dist + d\n",
    "    d,r = findroute(loc,prev)\n",
    "    dist = dist + d\n",
    "    return dist\n",
    "\n"
   ]
  },
  {
   "cell_type": "code",
   "execution_count": null,
   "id": "a5bb01a6",
   "metadata": {},
   "outputs": [],
   "source": [
    "def neighbour(city,options):\n",
    "    loc = (problem.loc[city].Lattitude,problem.loc[city].Longitude)\n",
    "    dist = sys.maxsize   \n",
    "    best = ''\n",
    "    for index, row in problem.iterrows():\n",
    "        p = (row['Lattitude'],row['Longitude'])\n",
    "        d,r = findroute(loc,p)\n",
    "        current = row['Text']\n",
    "        if (current != city):\n",
    "            if current in options:\n",
    "                if (d<dist):\n",
    "                    dist = d\n",
    "                    best = row['Text']\n",
    "    \n",
    "    options.remove(best)\n",
    "    return best,options"
   ]
  },
  {
   "cell_type": "code",
   "execution_count": null,
   "id": "deaeaf42",
   "metadata": {},
   "outputs": [],
   "source": [
    "def swap_random(seq):\n",
    "    idx = range(len(seq))\n",
    "    i1, i2 = random.sample(idx, 2)\n",
    "    seq[i1], seq[i2] = seq[i2], seq[i1]"
   ]
  },
  {
   "cell_type": "markdown",
   "id": "0b1a3388",
   "metadata": {},
   "source": [
    "### Start Here!\n",
    "\n",
    "Can you solve the problem by re-arraging the deliveries?"
   ]
  },
  {
   "cell_type": "code",
   "execution_count": null,
   "id": "2e203491",
   "metadata": {
    "scrolled": true
   },
   "outputs": [],
   "source": [
    "solution = ['H','D','A','B','F','G','E','I','J','C']\n",
    "dist = measure (solution)\n",
    "print(dist)\n",
    "drawMap(solution)"
   ]
  },
  {
   "cell_type": "markdown",
   "id": "d567921e",
   "metadata": {},
   "source": [
    "## Use a heuristic  to find a solution"
   ]
  },
  {
   "cell_type": "code",
   "execution_count": null,
   "id": "ad2d3b71",
   "metadata": {},
   "outputs": [],
   "source": [
    "solution = []\n",
    "possible = ['H','D','A','B','F','G','E','I','J','C']\n",
    "\n",
    "best, remaining = neighbour('A',possible)\n",
    "solution.append(best)\n",
    "\n",
    "best, remaining = neighbour(best,possible)\n",
    "solution.append(best)\n",
    "\n",
    "best, remaining = neighbour(best,possible)\n",
    "solution.append(best)\n",
    "\n",
    "dist = measure (solution)\n",
    "print(dist)\n",
    "drawMap(solution)"
   ]
  },
  {
   "cell_type": "code",
   "execution_count": null,
   "id": "61abc973",
   "metadata": {},
   "outputs": [],
   "source": [
    "solution"
   ]
  },
  {
   "cell_type": "markdown",
   "id": "a5ba4544",
   "metadata": {},
   "source": [
    "## Simple hill climber....."
   ]
  },
  {
   "cell_type": "code",
   "execution_count": null,
   "id": "1b318d9f",
   "metadata": {},
   "outputs": [],
   "source": [
    "sol = ['C','D','A','B','F','G','E','I','J','H']\n",
    "best = measure (possible)\n",
    "\n",
    "for x in range(0, 20):\n",
    "    old = sol.copy()\n",
    "    swap_random(sol)\n",
    "    n = measure (sol)\n",
    "    print(str(x) + \" : \" + str(n) + \" \" + str(sol))\n",
    "    if (n >= best):\n",
    "        sol = old\n",
    "    else:\n",
    "        print(\"Found new best! \"+ str(n))\n",
    "        best = n\n",
    "\n"
   ]
  },
  {
   "cell_type": "code",
   "execution_count": null,
   "id": "95196ff6",
   "metadata": {},
   "outputs": [],
   "source": []
  }
 ],
 "metadata": {
  "kernelspec": {
   "display_name": "Python [conda env:ox]",
   "language": "python",
   "name": "conda-env-ox-py"
  },
  "language_info": {
   "codemirror_mode": {
    "name": "ipython",
    "version": 3
   },
   "file_extension": ".py",
   "mimetype": "text/x-python",
   "name": "python",
   "nbconvert_exporter": "python",
   "pygments_lexer": "ipython3",
   "version": "3.10.4"
  }
 },
 "nbformat": 4,
 "nbformat_minor": 5
}
